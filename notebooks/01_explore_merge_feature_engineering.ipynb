{
 "cells": [
  {
   "cell_type": "markdown",
   "metadata": {},
   "source": [
    "<h3> MD ATIQUR RAHMAN </h3> <br>"
   ]
  },
  {
   "cell_type": "markdown",
   "metadata": {},
   "source": [
    "<h1> Problem Statement </h1> \n",
    "<h4> <font color='maroon'>Predicting Average Movie Rating</font> </h4>\n",
    "\n",
    "\n",
    "A movie's success or greatness can be measured based on its box office earnings and reviews/ratings that it gets from its critics and audiences after the release. Generally, it takes months to get a good amount of reviews and box office earnings to know whether the movie is a success or not. \n",
    "\n",
    "How can we tell whether a movie will be successful or not before being released in the theater? For example, most of the Cristopher Nolan movies (e.g., Interstellar, The Dark Knight Trilogy, Inception, etc.) were box office hits. They received a tremendous amount of positive reviews and high ratings from both critics and general audiences. Thus, my instincts tell me that a movie, either directed, written, or produced by him, will be a successful movie.\n",
    "\n",
    "Is there a better way for us to capture these types of patterns mathematically (using ML algorithms) and predict whether a movie will be successful or not (what average rating a movie might get) before its release without relying on critics or our instincts? (not predicting success based on box office earnings. That can be a separate use case/model).\n",
    "\n",
    "Therefore, we would like to explore a sample of movie meta data, find hidden patterns/insights and train an ML model:\n",
    "\n",
    "- `understand what are the crucial factors that make a movie more successful than others, in other words, get a higher IMDB rating.`  \n",
    "\n",
    "- `predict what a movie's average rating will be based on its available meta data before its release. `\n",
    "\n",
    "\n",
    "An accurate model will help movie producers, makers, and business entities assess a movie's success before its release in theatre and make informed decisions. \n",
    "\n",
    "Data Descriptions: https://www.imdb.com/interfaces/\n",
    "\n",
    "Data: https://datasets.imdbws.com/"
   ]
  },
  {
   "cell_type": "markdown",
   "metadata": {},
   "source": [
    "<h3> <font color ='maroon'>  Goal: Predicting Average Movie Ratings </font><br> \n",
    "\n",
    "\n",
    "- <a href = '#1'> <font color='maroon'> Objectives </font> </a> <br> <br>\n",
    "\n",
    "    - <a> understand what are the crucial factors that make a movie more successful than others, in other words, get a higher IMDB rating </a> <br> <br>\n",
    "\n",
    "    - <a> predict what a movie's average rating will be based on its available meta data before its release. </a>\n",
    "\n",
    "\n",
    "- <a href = '#2'> <font color='maroon'> Steps </font> </a> <br> <br>\n",
    "\n",
    "    - <a> 1) Data </a> <br> <br>\n",
    "        - <a> a) Data Preprocessing for Exploration and ML training<br> <br> </a> \n",
    "\n",
    "    - <a> 2) Data Exploration: Summarize the key findings and insights from these datasets <br> <br> </a>\n",
    "    - <a> 3) Statistics and Feature Selection for Modeling  <br> <br> </a> \n",
    "    - <a> 4) Build Machine Learning Models to Predict a Movie's Average Rating  <br> <br> </a>\n",
    "         - <a> Regression Models </a> <br> <br>\n",
    "         - <a> Classification Models (Stretch goal) </a><br> <br>\n",
    "         \n",
    "    - <a> 5) Breakdown of Predictions  </a> <br> <br>"
   ]
  },
  {
   "cell_type": "markdown",
   "metadata": {},
   "source": [
    "- <a href='#1'>1. Modules</a>\n",
    "- <a href='#2'>2. Functions</a>\n",
    "- <a href='#3'>3. Data</a>\n",
    "    - <a href='#3.1'>3.1 Data Descriptions </a>\n",
    "    - <a href='#3.2'>3.2 Extract WinRar Files </a>\n",
    "    - <a href='#3.3'>3.3 Build Title and Rating DataFrame -> `title_basics_rating.csv` </a>\n",
    "    - <a href='#3.4'>3.4 Build Crew, Titles, Ratings DataFrame -> `crew_titles_ratings.csv` </a>\n",
    "    \n",
    "- <a href='#4'>4. Feature Engineering</a>    \n",
    "    - <a href='#4.1'>4.1 Build Crew Avg Summary -> `crew_avg_summary_df.csv` </a>\n",
    "    - <a href='#4.2'>4.2 Merge Crew Summary with Crew_titles_ratings -> `crew_titles_ratings_summary.csv` </a>\n",
    "    - <a href='#4.3'>4.3 Build Title Summary -> `title_summary.csv`</a>\n",
    "    - <a href='#4.4'>4.4 Build Final DataFrame -> `movie_df_final.csv`</a>\n",
    "  "
   ]
  },
  {
   "cell_type": "markdown",
   "metadata": {},
   "source": [
    "# <a id='1'>1. Modules</a>"
   ]
  },
  {
   "cell_type": "code",
   "execution_count": 103,
   "metadata": {},
   "outputs": [],
   "source": [
    "import pandas as pd\n",
    "import numpy as np\n",
    "import matplotlib.pyplot as plt\n",
    "import seaborn as sns\n",
    "\n",
    "from sklearn.feature_extraction.text import CountVectorizer\n",
    "\n",
    "# Process raw WinRar files\n",
    "import glob\n",
    "import os\n",
    "from pyunpack import Archive #pip install pyunpack, pip install patool\n",
    "import gc\n",
    "\n",
    "import psutil # check memory"
   ]
  },
  {
   "cell_type": "markdown",
   "metadata": {},
   "source": [
    "# <a id='2'>2. Functionss</a>"
   ]
  },
  {
   "cell_type": "code",
   "execution_count": 2,
   "metadata": {
    "code_folding": [
     1
    ]
   },
   "outputs": [],
   "source": [
    "# 0. Extract winrar files - run once \n",
    "def extract_winrar_files(DATA_DIR):\n",
    "    '''\n",
    "    Extracts winrar files. After extracting, removes the winrar files and keep the extracted files only.\n",
    "    \n",
    "    Input:\n",
    "         DATA_DIR (str): path to winrar files\n",
    "    '''\n",
    "    # windows device - unzip raw data\n",
    "    os.chdir(DATA_DIR)\n",
    "    files = glob.glob(DATA_DIR+'*')\n",
    "    for file in files:\n",
    "        file_split = file.split(\"\\\\\")[1]\n",
    "        print(file_split)\n",
    "        file_split_path = os.getcwd()+\"\\\\\"\n",
    "        Archive(file_split).extractall(file_split_path)\n",
    "        try:\n",
    "            os.remove(file_split)\n",
    "        except OSError as e:\n",
    "            print(\"Error: %s : %s\" % (file_split, e.strerror))"
   ]
  },
  {
   "cell_type": "markdown",
   "metadata": {},
   "source": [
    "# <a id='3'>3. Data</a>"
   ]
  },
  {
   "cell_type": "markdown",
   "metadata": {
    "heading_collapsed": true
   },
   "source": [
    "## <a id='3.1'>3.1  Data Descriptions</a>"
   ]
  },
  {
   "cell_type": "markdown",
   "metadata": {
    "hidden": true
   },
   "source": [
    "IMDb Dataset Details\n",
    "\n",
    "Each dataset is contained in a gzipped, tab-separated-values (TSV) formatted file in the UTF-8 character set. The first line in each file contains headers that describe what is in each column. A ‘\\N’ is used to denote that a particular field is missing or null for that title/name. The available datasets are as follows:\n",
    "\n",
    "#### A. title.ratings.tsv.gz – Contains the IMDb rating and votes information for titles\n",
    "`tconst (string)` - alphanumeric unique identifier of the title<br>\n",
    "`averageRating` – weighted average of all the individual user ratings<br>\n",
    "`numVotes` - number of votes the title has received<br><br>\n",
    "\n",
    "\n",
    "#### B. title.basics.tsv.gz - Contains the following information for titles:\n",
    "`tconst (string)` - alphanumeric unique identifier of the title <br>\n",
    "`titleType (string)` – the type/format of the title (e.g. movie, short, tvseries, tvepisode, video, etc)<br>\n",
    "`primaryTitle (string)` – the more popular title / the title used by the filmmakers on promotional materials at the point of release<br>\n",
    "`originalTitle (string)` - original title, in the original language<br>\n",
    "`isAdult (boolean)` - 0: non-adult title; 1: adult title<br>\n",
    "`startYear (YYYY)` – represents the release year of a title. In the case of TV Series, it is the series start year<br>\n",
    "`endYear (YYYY)` – TV Series end year. ‘\\N’ for all other title types<br>\n",
    "`runtimeMinutes` – primary runtime of the title, in minutes<br>\n",
    "`genres (string array)` – includes up to three genres associated with the title<br><br>\n",
    "\n",
    "\n",
    "#### C. title.principals.tsv.gz – Contains the principal cast/crew for titles\n",
    "`tconst (string)` - alphanumeric unique identifier of the title<br>\n",
    "`ordering (integer)` – a number to uniquely identify rows for a given titleId<br>\n",
    "`nconst (string)` - alphanumeric unique identifier of the name/person<br>\n",
    "`category (string)` - the category of job that person was in<br>\n",
    "`job (string)` - the specific job title if applicable, else '\\N'<br>\n",
    "`characters (string)` - the name of the character played if applicable, else '\\N'<br><br>\n",
    "\n",
    "#### D. name.basics.tsv.gz – Contains the following information for names:\n",
    "`nconst (string)` - alphanumeric unique identifier of the name/person<br>\n",
    "`primaryName (string)`– name by which the person is most often credited<br>\n",
    "`birthYear` – in YYYY format<br>\n",
    "`deathYear` – in YYYY format if applicable, else '\\N'<br>\n",
    "`primaryProfession (array of strings)`– the top-3 professions of the person<br>\n",
    "`knownForTitles (array of tconsts)` – titles the person is known for<br><br>\n",
    "\n",
    "\n",
    "\n",
    "#### E. title.akas.tsv.gz - Contains the following information for titles:\n",
    "\n",
    "`titleId (string)` - a tconst, an alphanumeric unique identifier of the title <br>\n",
    "`ordering (integer)` – a number to uniquely identify rows for a given titleId <br>\n",
    "`title (string)` – the localized title <br>\n",
    "`region (string)` - the region for this version of the title <br>\n",
    "`language (string)` - the language of the title <br>\n",
    "`types (array)` - Enumerated set of attributes for this alternative title. One or more of the following: \"alternative\", \"dvd\", \"festival\", \"tv\", \"video\", \"working\", \"original\", \"imdbDisplay\". New values may be added in the future without warning <br>\n",
    "`attributes (array)` - Additional terms to describe this alternative title, not enumerated <br>\n",
    "`isOriginalTitle (boolean)` – 0: not original title; 1: original title <br> <br>\n",
    "\n",
    "#### F. title.crew.tsv.gz – Contains the director and writer information for all the titles in IMDb. Fields include:\n",
    "`tconst (string)` - alphanumeric unique identifier of the title<br>\n",
    "`directors (array of nconsts)` - director(s) of the given title<br>\n",
    "`writers (array of nconsts)` – writer(s) of the given title<br><br>\n",
    "\n",
    "####  G. title.episode.tsv.gz – Contains the tv episode information. Fields include:\n",
    "`tconst (string)` - alphanumeric identifier of episode<br>\n",
    "`parentTconst (string)` - alphanumeric identifier of the parent TV Series<br>\n",
    "`seasonNumber (integer)` – season number the episode belongs to<br>\n",
    "`episodeNumber (integer)` – episode number of the tconst in the TV series<br><br>"
   ]
  },
  {
   "cell_type": "code",
   "execution_count": null,
   "metadata": {
    "hidden": true
   },
   "outputs": [],
   "source": [
    "DATA_DIR = \"../../data/raw/\""
   ]
  },
  {
   "cell_type": "markdown",
   "metadata": {
    "heading_collapsed": true
   },
   "source": [
    "## <a id='3.2'>3.2  Extract WinRar Files</a>"
   ]
  },
  {
   "cell_type": "code",
   "execution_count": null,
   "metadata": {
    "hidden": true
   },
   "outputs": [],
   "source": [
    "# 0. Extract winrar files - run once \n",
    "# extract_winrar_files(DATA_DIR)"
   ]
  },
  {
   "cell_type": "code",
   "execution_count": null,
   "metadata": {
    "hidden": true
   },
   "outputs": [],
   "source": [
    "# collecting garbage\n",
    "collected = gc.collect()\n",
    "print(\"Garbage collector: collected\",\n",
    "          \"%d objects.\" % collected)"
   ]
  },
  {
   "cell_type": "markdown",
   "metadata": {
    "heading_collapsed": true
   },
   "source": [
    "## <a id='3.3'>3.3 Build Title and Rating DataFrame -> `title_basics_rating.csv`</a>"
   ]
  },
  {
   "cell_type": "markdown",
   "metadata": {
    "heading_collapsed": true,
    "hidden": true
   },
   "source": [
    "### A) title.ratings.tsv"
   ]
  },
  {
   "cell_type": "code",
   "execution_count": 59,
   "metadata": {
    "hidden": true
   },
   "outputs": [],
   "source": [
    "DATA_DIR = \"../data/raw/\""
   ]
  },
  {
   "cell_type": "code",
   "execution_count": 60,
   "metadata": {
    "hidden": true
   },
   "outputs": [
    {
     "data": {
      "text/plain": [
       "svmem(total=17011007488, available=5709369344, percent=66.4, used=11301638144, free=5709369344)"
      ]
     },
     "execution_count": 60,
     "metadata": {},
     "output_type": "execute_result"
    }
   ],
   "source": [
    "psutil.virtual_memory()"
   ]
  },
  {
   "cell_type": "code",
   "execution_count": 61,
   "metadata": {
    "hidden": true
   },
   "outputs": [
    {
     "name": "stdout",
     "output_type": "stream",
     "text": [
      "(1135764, 3)\n",
      "False\n",
      "1135764\n",
      "0\n"
     ]
    }
   ],
   "source": [
    "title_ratings = pd.read_table(DATA_DIR+\"title.ratings.tsv\")\n",
    "\n",
    "print(title_ratings.shape)\n",
    "print(title_ratings.duplicated().any())\n",
    "print(len(title_ratings['tconst'].unique()))\n",
    "print(title_ratings.isna().sum().sum())"
   ]
  },
  {
   "cell_type": "code",
   "execution_count": 62,
   "metadata": {
    "hidden": true
   },
   "outputs": [
    {
     "data": {
      "text/html": [
       "<div>\n",
       "<style scoped>\n",
       "    .dataframe tbody tr th:only-of-type {\n",
       "        vertical-align: middle;\n",
       "    }\n",
       "\n",
       "    .dataframe tbody tr th {\n",
       "        vertical-align: top;\n",
       "    }\n",
       "\n",
       "    .dataframe thead th {\n",
       "        text-align: right;\n",
       "    }\n",
       "</style>\n",
       "<table border=\"1\" class=\"dataframe\">\n",
       "  <thead>\n",
       "    <tr style=\"text-align: right;\">\n",
       "      <th></th>\n",
       "      <th>tconst</th>\n",
       "      <th>averageRating</th>\n",
       "      <th>numVotes</th>\n",
       "    </tr>\n",
       "  </thead>\n",
       "  <tbody>\n",
       "    <tr>\n",
       "      <th>0</th>\n",
       "      <td>tt0000001</td>\n",
       "      <td>5.6</td>\n",
       "      <td>1695</td>\n",
       "    </tr>\n",
       "    <tr>\n",
       "      <th>1</th>\n",
       "      <td>tt0000002</td>\n",
       "      <td>6.0</td>\n",
       "      <td>210</td>\n",
       "    </tr>\n",
       "    <tr>\n",
       "      <th>2</th>\n",
       "      <td>tt0000003</td>\n",
       "      <td>6.5</td>\n",
       "      <td>1442</td>\n",
       "    </tr>\n",
       "    <tr>\n",
       "      <th>3</th>\n",
       "      <td>tt0000004</td>\n",
       "      <td>6.1</td>\n",
       "      <td>122</td>\n",
       "    </tr>\n",
       "    <tr>\n",
       "      <th>4</th>\n",
       "      <td>tt0000005</td>\n",
       "      <td>6.1</td>\n",
       "      <td>2242</td>\n",
       "    </tr>\n",
       "  </tbody>\n",
       "</table>\n",
       "</div>"
      ],
      "text/plain": [
       "      tconst  averageRating  numVotes\n",
       "0  tt0000001            5.6      1695\n",
       "1  tt0000002            6.0       210\n",
       "2  tt0000003            6.5      1442\n",
       "3  tt0000004            6.1       122\n",
       "4  tt0000005            6.1      2242"
      ]
     },
     "execution_count": 62,
     "metadata": {},
     "output_type": "execute_result"
    }
   ],
   "source": [
    "title_ratings.head()"
   ]
  },
  {
   "cell_type": "markdown",
   "metadata": {
    "heading_collapsed": true,
    "hidden": true
   },
   "source": [
    "### B) title.basics.tsv"
   ]
  },
  {
   "cell_type": "code",
   "execution_count": 63,
   "metadata": {
    "hidden": true
   },
   "outputs": [
    {
     "name": "stderr",
     "output_type": "stream",
     "text": [
      "C:\\Users\\MDAtiqurRahman\\Anaconda3\\lib\\site-packages\\IPython\\core\\interactiveshell.py:3249: DtypeWarning: Columns (4,5) have mixed types.Specify dtype option on import or set low_memory=False.\n",
      "  if (await self.run_code(code, result,  async_=asy)):\n"
     ]
    },
    {
     "name": "stdout",
     "output_type": "stream",
     "text": [
      "(7770807, 9)\n",
      "False\n",
      "7770807\n",
      "32\n"
     ]
    }
   ],
   "source": [
    "title_basics = pd.read_table(DATA_DIR+\"title.basics.tsv\")\n",
    "\n",
    "print(title_basics.shape)\n",
    "print(title_basics.duplicated().any())\n",
    "print(len(title_basics['tconst'].unique()))\n",
    "print(title_basics.isna().sum().sum())"
   ]
  },
  {
   "cell_type": "code",
   "execution_count": 64,
   "metadata": {
    "hidden": true
   },
   "outputs": [
    {
     "data": {
      "text/html": [
       "<div>\n",
       "<style scoped>\n",
       "    .dataframe tbody tr th:only-of-type {\n",
       "        vertical-align: middle;\n",
       "    }\n",
       "\n",
       "    .dataframe tbody tr th {\n",
       "        vertical-align: top;\n",
       "    }\n",
       "\n",
       "    .dataframe thead th {\n",
       "        text-align: right;\n",
       "    }\n",
       "</style>\n",
       "<table border=\"1\" class=\"dataframe\">\n",
       "  <thead>\n",
       "    <tr style=\"text-align: right;\">\n",
       "      <th></th>\n",
       "      <th>tconst</th>\n",
       "      <th>titleType</th>\n",
       "      <th>primaryTitle</th>\n",
       "      <th>originalTitle</th>\n",
       "      <th>isAdult</th>\n",
       "      <th>startYear</th>\n",
       "      <th>endYear</th>\n",
       "      <th>runtimeMinutes</th>\n",
       "      <th>genres</th>\n",
       "    </tr>\n",
       "  </thead>\n",
       "  <tbody>\n",
       "    <tr>\n",
       "      <th>0</th>\n",
       "      <td>tt0000001</td>\n",
       "      <td>short</td>\n",
       "      <td>Carmencita</td>\n",
       "      <td>Carmencita</td>\n",
       "      <td>0</td>\n",
       "      <td>1894</td>\n",
       "      <td>\\N</td>\n",
       "      <td>1</td>\n",
       "      <td>Documentary,Short</td>\n",
       "    </tr>\n",
       "    <tr>\n",
       "      <th>1</th>\n",
       "      <td>tt0000002</td>\n",
       "      <td>short</td>\n",
       "      <td>Le clown et ses chiens</td>\n",
       "      <td>Le clown et ses chiens</td>\n",
       "      <td>0</td>\n",
       "      <td>1892</td>\n",
       "      <td>\\N</td>\n",
       "      <td>5</td>\n",
       "      <td>Animation,Short</td>\n",
       "    </tr>\n",
       "    <tr>\n",
       "      <th>2</th>\n",
       "      <td>tt0000003</td>\n",
       "      <td>short</td>\n",
       "      <td>Pauvre Pierrot</td>\n",
       "      <td>Pauvre Pierrot</td>\n",
       "      <td>0</td>\n",
       "      <td>1892</td>\n",
       "      <td>\\N</td>\n",
       "      <td>4</td>\n",
       "      <td>Animation,Comedy,Romance</td>\n",
       "    </tr>\n",
       "    <tr>\n",
       "      <th>3</th>\n",
       "      <td>tt0000004</td>\n",
       "      <td>short</td>\n",
       "      <td>Un bon bock</td>\n",
       "      <td>Un bon bock</td>\n",
       "      <td>0</td>\n",
       "      <td>1892</td>\n",
       "      <td>\\N</td>\n",
       "      <td>12</td>\n",
       "      <td>Animation,Short</td>\n",
       "    </tr>\n",
       "    <tr>\n",
       "      <th>4</th>\n",
       "      <td>tt0000005</td>\n",
       "      <td>short</td>\n",
       "      <td>Blacksmith Scene</td>\n",
       "      <td>Blacksmith Scene</td>\n",
       "      <td>0</td>\n",
       "      <td>1893</td>\n",
       "      <td>\\N</td>\n",
       "      <td>1</td>\n",
       "      <td>Comedy,Short</td>\n",
       "    </tr>\n",
       "  </tbody>\n",
       "</table>\n",
       "</div>"
      ],
      "text/plain": [
       "      tconst titleType            primaryTitle           originalTitle  \\\n",
       "0  tt0000001     short              Carmencita              Carmencita   \n",
       "1  tt0000002     short  Le clown et ses chiens  Le clown et ses chiens   \n",
       "2  tt0000003     short          Pauvre Pierrot          Pauvre Pierrot   \n",
       "3  tt0000004     short             Un bon bock             Un bon bock   \n",
       "4  tt0000005     short        Blacksmith Scene        Blacksmith Scene   \n",
       "\n",
       "  isAdult startYear endYear runtimeMinutes                    genres  \n",
       "0       0      1894      \\N              1         Documentary,Short  \n",
       "1       0      1892      \\N              5           Animation,Short  \n",
       "2       0      1892      \\N              4  Animation,Comedy,Romance  \n",
       "3       0      1892      \\N             12           Animation,Short  \n",
       "4       0      1893      \\N              1              Comedy,Short  "
      ]
     },
     "execution_count": 64,
     "metadata": {},
     "output_type": "execute_result"
    }
   ],
   "source": [
    "title_basics.head()"
   ]
  },
  {
   "cell_type": "code",
   "execution_count": 65,
   "metadata": {
    "hidden": true
   },
   "outputs": [
    {
     "data": {
      "text/plain": [
       "tvEpisode       5652753\n",
       "short            802859\n",
       "movie            573095\n",
       "video            300773\n",
       "tvSeries         204506\n",
       "tvMovie          130681\n",
       "tvMiniSeries      36646\n",
       "tvSpecial         31965\n",
       "videoGame         27675\n",
       "tvShort            9851\n",
       "radioSeries           1\n",
       "episode               1\n",
       "audiobook             1\n",
       "Name: titleType, dtype: int64"
      ]
     },
     "execution_count": 65,
     "metadata": {},
     "output_type": "execute_result"
    }
   ],
   "source": [
    "title_basics['titleType'].value_counts()"
   ]
  },
  {
   "cell_type": "markdown",
   "metadata": {
    "heading_collapsed": true,
    "hidden": true
   },
   "source": [
    "### C) Keep movie data only, drop everything else"
   ]
  },
  {
   "cell_type": "code",
   "execution_count": 66,
   "metadata": {
    "hidden": true
   },
   "outputs": [],
   "source": [
    "title_basics = title_basics[title_basics['titleType'] == 'movie']"
   ]
  },
  {
   "cell_type": "code",
   "execution_count": 67,
   "metadata": {
    "hidden": true
   },
   "outputs": [
    {
     "data": {
      "text/plain": [
       "(573095, 9)"
      ]
     },
     "execution_count": 67,
     "metadata": {},
     "output_type": "execute_result"
    }
   ],
   "source": [
    "title_basics.shape"
   ]
  },
  {
   "cell_type": "markdown",
   "metadata": {
    "heading_collapsed": true,
    "hidden": true
   },
   "source": [
    "### D)  Drop all records where `runtimeMinutes` or `genres` == \"\\N\" "
   ]
  },
  {
   "cell_type": "code",
   "execution_count": 68,
   "metadata": {
    "hidden": true
   },
   "outputs": [],
   "source": [
    "title_basics = title_basics[~title_basics['runtimeMinutes'].str.contains(r'\\\\N', regex=True)]"
   ]
  },
  {
   "cell_type": "code",
   "execution_count": 69,
   "metadata": {
    "hidden": true
   },
   "outputs": [],
   "source": [
    "title_basics = title_basics[~title_basics['genres'].str.contains(r'\\\\N', regex=True)]"
   ]
  },
  {
   "cell_type": "code",
   "execution_count": 70,
   "metadata": {
    "hidden": true
   },
   "outputs": [
    {
     "data": {
      "text/plain": [
       "(337625, 9)"
      ]
     },
     "execution_count": 70,
     "metadata": {},
     "output_type": "execute_result"
    }
   ],
   "source": [
    "title_basics.shape"
   ]
  },
  {
   "cell_type": "code",
   "execution_count": 71,
   "metadata": {
    "hidden": true
   },
   "outputs": [
    {
     "data": {
      "text/plain": [
       "tconst            0\n",
       "titleType         0\n",
       "primaryTitle      0\n",
       "originalTitle     0\n",
       "isAdult           0\n",
       "startYear         0\n",
       "endYear           0\n",
       "runtimeMinutes    0\n",
       "genres            0\n",
       "dtype: int64"
      ]
     },
     "execution_count": 71,
     "metadata": {},
     "output_type": "execute_result"
    }
   ],
   "source": [
    "title_basics.isna().sum()"
   ]
  },
  {
   "cell_type": "markdown",
   "metadata": {
    "heading_collapsed": true,
    "hidden": true
   },
   "source": [
    "### E) Drop unnecessary columns"
   ]
  },
  {
   "cell_type": "code",
   "execution_count": 72,
   "metadata": {
    "hidden": true
   },
   "outputs": [],
   "source": [
    "title_basics = title_basics.drop(['titleType', 'originalTitle', 'startYear', 'endYear'], axis=1)"
   ]
  },
  {
   "cell_type": "code",
   "execution_count": 73,
   "metadata": {
    "hidden": true
   },
   "outputs": [
    {
     "data": {
      "text/html": [
       "<div>\n",
       "<style scoped>\n",
       "    .dataframe tbody tr th:only-of-type {\n",
       "        vertical-align: middle;\n",
       "    }\n",
       "\n",
       "    .dataframe tbody tr th {\n",
       "        vertical-align: top;\n",
       "    }\n",
       "\n",
       "    .dataframe thead th {\n",
       "        text-align: right;\n",
       "    }\n",
       "</style>\n",
       "<table border=\"1\" class=\"dataframe\">\n",
       "  <thead>\n",
       "    <tr style=\"text-align: right;\">\n",
       "      <th></th>\n",
       "      <th>tconst</th>\n",
       "      <th>primaryTitle</th>\n",
       "      <th>isAdult</th>\n",
       "      <th>runtimeMinutes</th>\n",
       "      <th>genres</th>\n",
       "    </tr>\n",
       "  </thead>\n",
       "  <tbody>\n",
       "    <tr>\n",
       "      <th>570</th>\n",
       "      <td>tt0000574</td>\n",
       "      <td>The Story of the Kelly Gang</td>\n",
       "      <td>0</td>\n",
       "      <td>70</td>\n",
       "      <td>Action,Adventure,Biography</td>\n",
       "    </tr>\n",
       "    <tr>\n",
       "      <th>672</th>\n",
       "      <td>tt0000679</td>\n",
       "      <td>The Fairylogue and Radio-Plays</td>\n",
       "      <td>0</td>\n",
       "      <td>120</td>\n",
       "      <td>Adventure,Fantasy</td>\n",
       "    </tr>\n",
       "    <tr>\n",
       "      <th>1172</th>\n",
       "      <td>tt0001184</td>\n",
       "      <td>Don Juan de Serrallonga</td>\n",
       "      <td>0</td>\n",
       "      <td>58</td>\n",
       "      <td>Adventure,Drama</td>\n",
       "    </tr>\n",
       "    <tr>\n",
       "      <th>1246</th>\n",
       "      <td>tt0001258</td>\n",
       "      <td>The White Slave Trade</td>\n",
       "      <td>0</td>\n",
       "      <td>45</td>\n",
       "      <td>Drama</td>\n",
       "    </tr>\n",
       "    <tr>\n",
       "      <th>1273</th>\n",
       "      <td>tt0001285</td>\n",
       "      <td>The Life of Moses</td>\n",
       "      <td>0</td>\n",
       "      <td>50</td>\n",
       "      <td>Biography,Drama,Family</td>\n",
       "    </tr>\n",
       "  </tbody>\n",
       "</table>\n",
       "</div>"
      ],
      "text/plain": [
       "         tconst                    primaryTitle isAdult runtimeMinutes  \\\n",
       "570   tt0000574     The Story of the Kelly Gang       0             70   \n",
       "672   tt0000679  The Fairylogue and Radio-Plays       0            120   \n",
       "1172  tt0001184         Don Juan de Serrallonga       0             58   \n",
       "1246  tt0001258           The White Slave Trade       0             45   \n",
       "1273  tt0001285               The Life of Moses       0             50   \n",
       "\n",
       "                          genres  \n",
       "570   Action,Adventure,Biography  \n",
       "672            Adventure,Fantasy  \n",
       "1172             Adventure,Drama  \n",
       "1246                       Drama  \n",
       "1273      Biography,Drama,Family  "
      ]
     },
     "execution_count": 73,
     "metadata": {},
     "output_type": "execute_result"
    }
   ],
   "source": [
    "title_basics.head()"
   ]
  },
  {
   "cell_type": "code",
   "execution_count": 74,
   "metadata": {
    "hidden": true
   },
   "outputs": [
    {
     "data": {
      "text/plain": [
       "(337625, 5)"
      ]
     },
     "execution_count": 74,
     "metadata": {},
     "output_type": "execute_result"
    }
   ],
   "source": [
    "title_basics.shape"
   ]
  },
  {
   "cell_type": "markdown",
   "metadata": {
    "heading_collapsed": true,
    "hidden": true
   },
   "source": [
    "### F) Merge A and C - ratings with title_basics\n",
    "\n",
    "This will keep the only movies that have rating information"
   ]
  },
  {
   "cell_type": "code",
   "execution_count": 75,
   "metadata": {
    "hidden": true
   },
   "outputs": [],
   "source": [
    "title_basics_rating = title_basics.merge(title_ratings, on='tconst', how='left')"
   ]
  },
  {
   "cell_type": "code",
   "execution_count": 76,
   "metadata": {
    "hidden": true
   },
   "outputs": [
    {
     "data": {
      "text/plain": [
       "(337625, 7)"
      ]
     },
     "execution_count": 76,
     "metadata": {},
     "output_type": "execute_result"
    }
   ],
   "source": [
    "title_basics_rating.shape"
   ]
  },
  {
   "cell_type": "code",
   "execution_count": 78,
   "metadata": {
    "hidden": true
   },
   "outputs": [],
   "source": [
    "title_basics_rating = title_basics_rating.dropna()"
   ]
  },
  {
   "cell_type": "code",
   "execution_count": 79,
   "metadata": {
    "hidden": true
   },
   "outputs": [
    {
     "data": {
      "text/plain": [
       "(228790, 7)"
      ]
     },
     "execution_count": 79,
     "metadata": {},
     "output_type": "execute_result"
    }
   ],
   "source": [
    "title_basics_rating.shape"
   ]
  },
  {
   "cell_type": "code",
   "execution_count": 81,
   "metadata": {
    "hidden": true
   },
   "outputs": [
    {
     "data": {
      "text/html": [
       "<div>\n",
       "<style scoped>\n",
       "    .dataframe tbody tr th:only-of-type {\n",
       "        vertical-align: middle;\n",
       "    }\n",
       "\n",
       "    .dataframe tbody tr th {\n",
       "        vertical-align: top;\n",
       "    }\n",
       "\n",
       "    .dataframe thead th {\n",
       "        text-align: right;\n",
       "    }\n",
       "</style>\n",
       "<table border=\"1\" class=\"dataframe\">\n",
       "  <thead>\n",
       "    <tr style=\"text-align: right;\">\n",
       "      <th></th>\n",
       "      <th>tconst</th>\n",
       "      <th>primaryTitle</th>\n",
       "      <th>isAdult</th>\n",
       "      <th>runtimeMinutes</th>\n",
       "      <th>genres</th>\n",
       "      <th>averageRating</th>\n",
       "      <th>numVotes</th>\n",
       "    </tr>\n",
       "  </thead>\n",
       "  <tbody>\n",
       "    <tr>\n",
       "      <th>0</th>\n",
       "      <td>tt0000574</td>\n",
       "      <td>The Story of the Kelly Gang</td>\n",
       "      <td>0</td>\n",
       "      <td>70</td>\n",
       "      <td>Action,Adventure,Biography</td>\n",
       "      <td>6.1</td>\n",
       "      <td>625.0</td>\n",
       "    </tr>\n",
       "    <tr>\n",
       "      <th>1</th>\n",
       "      <td>tt0000679</td>\n",
       "      <td>The Fairylogue and Radio-Plays</td>\n",
       "      <td>0</td>\n",
       "      <td>120</td>\n",
       "      <td>Adventure,Fantasy</td>\n",
       "      <td>5.2</td>\n",
       "      <td>35.0</td>\n",
       "    </tr>\n",
       "    <tr>\n",
       "      <th>2</th>\n",
       "      <td>tt0001184</td>\n",
       "      <td>Don Juan de Serrallonga</td>\n",
       "      <td>0</td>\n",
       "      <td>58</td>\n",
       "      <td>Adventure,Drama</td>\n",
       "      <td>3.4</td>\n",
       "      <td>11.0</td>\n",
       "    </tr>\n",
       "    <tr>\n",
       "      <th>3</th>\n",
       "      <td>tt0001258</td>\n",
       "      <td>The White Slave Trade</td>\n",
       "      <td>0</td>\n",
       "      <td>45</td>\n",
       "      <td>Drama</td>\n",
       "      <td>5.7</td>\n",
       "      <td>101.0</td>\n",
       "    </tr>\n",
       "    <tr>\n",
       "      <th>4</th>\n",
       "      <td>tt0001285</td>\n",
       "      <td>The Life of Moses</td>\n",
       "      <td>0</td>\n",
       "      <td>50</td>\n",
       "      <td>Biography,Drama,Family</td>\n",
       "      <td>5.4</td>\n",
       "      <td>29.0</td>\n",
       "    </tr>\n",
       "  </tbody>\n",
       "</table>\n",
       "</div>"
      ],
      "text/plain": [
       "      tconst                    primaryTitle isAdult runtimeMinutes  \\\n",
       "0  tt0000574     The Story of the Kelly Gang       0             70   \n",
       "1  tt0000679  The Fairylogue and Radio-Plays       0            120   \n",
       "2  tt0001184         Don Juan de Serrallonga       0             58   \n",
       "3  tt0001258           The White Slave Trade       0             45   \n",
       "4  tt0001285               The Life of Moses       0             50   \n",
       "\n",
       "                       genres  averageRating  numVotes  \n",
       "0  Action,Adventure,Biography            6.1     625.0  \n",
       "1           Adventure,Fantasy            5.2      35.0  \n",
       "2             Adventure,Drama            3.4      11.0  \n",
       "3                       Drama            5.7     101.0  \n",
       "4      Biography,Drama,Family            5.4      29.0  "
      ]
     },
     "execution_count": 81,
     "metadata": {},
     "output_type": "execute_result"
    }
   ],
   "source": [
    "title_basics_rating.head()"
   ]
  },
  {
   "cell_type": "markdown",
   "metadata": {
    "heading_collapsed": true,
    "hidden": true
   },
   "source": [
    "### G) Keep Title Ids of interest"
   ]
  },
  {
   "cell_type": "code",
   "execution_count": 82,
   "metadata": {
    "hidden": true
   },
   "outputs": [],
   "source": [
    "title_basics_rating_ids = title_basics_rating['tconst'].unique()"
   ]
  },
  {
   "cell_type": "markdown",
   "metadata": {
    "heading_collapsed": true,
    "hidden": true
   },
   "source": [
    "### H) Save in interim folder and delete cache"
   ]
  },
  {
   "cell_type": "code",
   "execution_count": 83,
   "metadata": {
    "hidden": true
   },
   "outputs": [
    {
     "name": "stdout",
     "output_type": "stream",
     "text": [
      "Garbage collector: collected 169 objects.\n"
     ]
    }
   ],
   "source": [
    "# collecting garbage\n",
    "collected = gc.collect()\n",
    "print(\"Garbage collector: collected\",\n",
    "          \"%d objects.\" % collected)\n",
    "      \n",
    "title_basics_rating.to_csv(\"../data/interim/title_basics_rating.csv\", index=False)"
   ]
  },
  {
   "cell_type": "code",
   "execution_count": 85,
   "metadata": {
    "hidden": true
   },
   "outputs": [
    {
     "data": {
      "text/html": [
       "<div>\n",
       "<style scoped>\n",
       "    .dataframe tbody tr th:only-of-type {\n",
       "        vertical-align: middle;\n",
       "    }\n",
       "\n",
       "    .dataframe tbody tr th {\n",
       "        vertical-align: top;\n",
       "    }\n",
       "\n",
       "    .dataframe thead th {\n",
       "        text-align: right;\n",
       "    }\n",
       "</style>\n",
       "<table border=\"1\" class=\"dataframe\">\n",
       "  <thead>\n",
       "    <tr style=\"text-align: right;\">\n",
       "      <th></th>\n",
       "      <th>tconst</th>\n",
       "      <th>primaryTitle</th>\n",
       "      <th>isAdult</th>\n",
       "      <th>runtimeMinutes</th>\n",
       "      <th>genres</th>\n",
       "      <th>averageRating</th>\n",
       "      <th>numVotes</th>\n",
       "    </tr>\n",
       "  </thead>\n",
       "  <tbody>\n",
       "    <tr>\n",
       "      <th>0</th>\n",
       "      <td>tt0000574</td>\n",
       "      <td>The Story of the Kelly Gang</td>\n",
       "      <td>0</td>\n",
       "      <td>70</td>\n",
       "      <td>Action,Adventure,Biography</td>\n",
       "      <td>6.1</td>\n",
       "      <td>625.0</td>\n",
       "    </tr>\n",
       "    <tr>\n",
       "      <th>1</th>\n",
       "      <td>tt0000679</td>\n",
       "      <td>The Fairylogue and Radio-Plays</td>\n",
       "      <td>0</td>\n",
       "      <td>120</td>\n",
       "      <td>Adventure,Fantasy</td>\n",
       "      <td>5.2</td>\n",
       "      <td>35.0</td>\n",
       "    </tr>\n",
       "    <tr>\n",
       "      <th>2</th>\n",
       "      <td>tt0001184</td>\n",
       "      <td>Don Juan de Serrallonga</td>\n",
       "      <td>0</td>\n",
       "      <td>58</td>\n",
       "      <td>Adventure,Drama</td>\n",
       "      <td>3.4</td>\n",
       "      <td>11.0</td>\n",
       "    </tr>\n",
       "    <tr>\n",
       "      <th>3</th>\n",
       "      <td>tt0001258</td>\n",
       "      <td>The White Slave Trade</td>\n",
       "      <td>0</td>\n",
       "      <td>45</td>\n",
       "      <td>Drama</td>\n",
       "      <td>5.7</td>\n",
       "      <td>101.0</td>\n",
       "    </tr>\n",
       "    <tr>\n",
       "      <th>4</th>\n",
       "      <td>tt0001285</td>\n",
       "      <td>The Life of Moses</td>\n",
       "      <td>0</td>\n",
       "      <td>50</td>\n",
       "      <td>Biography,Drama,Family</td>\n",
       "      <td>5.4</td>\n",
       "      <td>29.0</td>\n",
       "    </tr>\n",
       "  </tbody>\n",
       "</table>\n",
       "</div>"
      ],
      "text/plain": [
       "      tconst                    primaryTitle isAdult runtimeMinutes  \\\n",
       "0  tt0000574     The Story of the Kelly Gang       0             70   \n",
       "1  tt0000679  The Fairylogue and Radio-Plays       0            120   \n",
       "2  tt0001184         Don Juan de Serrallonga       0             58   \n",
       "3  tt0001258           The White Slave Trade       0             45   \n",
       "4  tt0001285               The Life of Moses       0             50   \n",
       "\n",
       "                       genres  averageRating  numVotes  \n",
       "0  Action,Adventure,Biography            6.1     625.0  \n",
       "1           Adventure,Fantasy            5.2      35.0  \n",
       "2             Adventure,Drama            3.4      11.0  \n",
       "3                       Drama            5.7     101.0  \n",
       "4      Biography,Drama,Family            5.4      29.0  "
      ]
     },
     "execution_count": 85,
     "metadata": {},
     "output_type": "execute_result"
    }
   ],
   "source": [
    "title_basics_rating.head()"
   ]
  },
  {
   "cell_type": "code",
   "execution_count": 86,
   "metadata": {
    "hidden": true
   },
   "outputs": [],
   "source": [
    "del title_ratings\n",
    "del title_basics\n",
    "del title_basics_rating"
   ]
  },
  {
   "cell_type": "markdown",
   "metadata": {
    "heading_collapsed": true
   },
   "source": [
    "## <a id='3.4'>3.4 Build Crew, Titles, Ratings DataFrame -> `crew_titles_ratings.csv`</a>"
   ]
  },
  {
   "cell_type": "markdown",
   "metadata": {
    "heading_collapsed": true,
    "hidden": true
   },
   "source": [
    "### A) title.principals.tsv  – Contains the principal cast/crew for titles"
   ]
  },
  {
   "cell_type": "code",
   "execution_count": 87,
   "metadata": {
    "hidden": true
   },
   "outputs": [
    {
     "name": "stdout",
     "output_type": "stream",
     "text": [
      "(43925408, 6)\n",
      "False\n",
      "7059190\n",
      "0\n"
     ]
    }
   ],
   "source": [
    "title_principals = pd.read_table(DATA_DIR+\"title.principals.tsv\")\n",
    "\n",
    "print(title_principals.shape)\n",
    "print(title_principals.duplicated().any())\n",
    "print(len(title_principals['tconst'].unique()))\n",
    "print(title_principals.isna().sum().sum())"
   ]
  },
  {
   "cell_type": "code",
   "execution_count": 88,
   "metadata": {
    "hidden": true
   },
   "outputs": [
    {
     "data": {
      "text/plain": [
       "(43925408, 6)"
      ]
     },
     "execution_count": 88,
     "metadata": {},
     "output_type": "execute_result"
    }
   ],
   "source": [
    "title_principals.shape"
   ]
  },
  {
   "cell_type": "code",
   "execution_count": 89,
   "metadata": {
    "hidden": true
   },
   "outputs": [
    {
     "data": {
      "text/html": [
       "<div>\n",
       "<style scoped>\n",
       "    .dataframe tbody tr th:only-of-type {\n",
       "        vertical-align: middle;\n",
       "    }\n",
       "\n",
       "    .dataframe tbody tr th {\n",
       "        vertical-align: top;\n",
       "    }\n",
       "\n",
       "    .dataframe thead th {\n",
       "        text-align: right;\n",
       "    }\n",
       "</style>\n",
       "<table border=\"1\" class=\"dataframe\">\n",
       "  <thead>\n",
       "    <tr style=\"text-align: right;\">\n",
       "      <th></th>\n",
       "      <th>tconst</th>\n",
       "      <th>ordering</th>\n",
       "      <th>nconst</th>\n",
       "      <th>category</th>\n",
       "      <th>job</th>\n",
       "      <th>characters</th>\n",
       "    </tr>\n",
       "  </thead>\n",
       "  <tbody>\n",
       "    <tr>\n",
       "      <th>0</th>\n",
       "      <td>tt0000001</td>\n",
       "      <td>1</td>\n",
       "      <td>nm1588970</td>\n",
       "      <td>self</td>\n",
       "      <td>\\N</td>\n",
       "      <td>[\"Self\"]</td>\n",
       "    </tr>\n",
       "    <tr>\n",
       "      <th>1</th>\n",
       "      <td>tt0000001</td>\n",
       "      <td>2</td>\n",
       "      <td>nm0005690</td>\n",
       "      <td>director</td>\n",
       "      <td>\\N</td>\n",
       "      <td>\\N</td>\n",
       "    </tr>\n",
       "    <tr>\n",
       "      <th>2</th>\n",
       "      <td>tt0000001</td>\n",
       "      <td>3</td>\n",
       "      <td>nm0374658</td>\n",
       "      <td>cinematographer</td>\n",
       "      <td>director of photography</td>\n",
       "      <td>\\N</td>\n",
       "    </tr>\n",
       "    <tr>\n",
       "      <th>3</th>\n",
       "      <td>tt0000002</td>\n",
       "      <td>1</td>\n",
       "      <td>nm0721526</td>\n",
       "      <td>director</td>\n",
       "      <td>\\N</td>\n",
       "      <td>\\N</td>\n",
       "    </tr>\n",
       "    <tr>\n",
       "      <th>4</th>\n",
       "      <td>tt0000002</td>\n",
       "      <td>2</td>\n",
       "      <td>nm1335271</td>\n",
       "      <td>composer</td>\n",
       "      <td>\\N</td>\n",
       "      <td>\\N</td>\n",
       "    </tr>\n",
       "  </tbody>\n",
       "</table>\n",
       "</div>"
      ],
      "text/plain": [
       "      tconst  ordering     nconst         category                      job  \\\n",
       "0  tt0000001         1  nm1588970             self                       \\N   \n",
       "1  tt0000001         2  nm0005690         director                       \\N   \n",
       "2  tt0000001         3  nm0374658  cinematographer  director of photography   \n",
       "3  tt0000002         1  nm0721526         director                       \\N   \n",
       "4  tt0000002         2  nm1335271         composer                       \\N   \n",
       "\n",
       "  characters  \n",
       "0   [\"Self\"]  \n",
       "1         \\N  \n",
       "2         \\N  \n",
       "3         \\N  \n",
       "4         \\N  "
      ]
     },
     "execution_count": 89,
     "metadata": {},
     "output_type": "execute_result"
    }
   ],
   "source": [
    "title_principals.head()"
   ]
  },
  {
   "cell_type": "markdown",
   "metadata": {
    "heading_collapsed": true,
    "hidden": true
   },
   "source": [
    "### B) Filtrer out unneccessary title_basics_rating_ids"
   ]
  },
  {
   "cell_type": "code",
   "execution_count": 90,
   "metadata": {
    "hidden": true
   },
   "outputs": [],
   "source": [
    "title_principals = title_principals[title_principals['tconst'].isin(title_basics_rating_ids)]"
   ]
  },
  {
   "cell_type": "code",
   "execution_count": 92,
   "metadata": {
    "hidden": true
   },
   "outputs": [
    {
     "data": {
      "text/plain": [
       "(2069262, 6)"
      ]
     },
     "execution_count": 92,
     "metadata": {},
     "output_type": "execute_result"
    }
   ],
   "source": [
    "title_principals.shape"
   ]
  },
  {
   "cell_type": "markdown",
   "metadata": {
    "heading_collapsed": true,
    "hidden": true
   },
   "source": [
    "### C) name.basics.tsv"
   ]
  },
  {
   "cell_type": "code",
   "execution_count": 91,
   "metadata": {
    "hidden": true
   },
   "outputs": [
    {
     "name": "stdout",
     "output_type": "stream",
     "text": [
      "(10832003, 6)\n",
      "False\n",
      "10832003\n",
      "2288780\n"
     ]
    }
   ],
   "source": [
    "name_basics = pd.read_table(DATA_DIR+\"name.basics.tsv\")\n",
    "\n",
    "print(name_basics.shape)\n",
    "print(name_basics.duplicated().any())\n",
    "print(len(name_basics['nconst'].unique()))\n",
    "print(name_basics.isna().sum().sum())"
   ]
  },
  {
   "cell_type": "markdown",
   "metadata": {
    "heading_collapsed": true,
    "hidden": true
   },
   "source": [
    "### D) Merge A and C - ratings with title_basics"
   ]
  },
  {
   "cell_type": "code",
   "execution_count": 96,
   "metadata": {
    "hidden": true
   },
   "outputs": [
    {
     "data": {
      "text/html": [
       "<div>\n",
       "<style scoped>\n",
       "    .dataframe tbody tr th:only-of-type {\n",
       "        vertical-align: middle;\n",
       "    }\n",
       "\n",
       "    .dataframe tbody tr th {\n",
       "        vertical-align: top;\n",
       "    }\n",
       "\n",
       "    .dataframe thead th {\n",
       "        text-align: right;\n",
       "    }\n",
       "</style>\n",
       "<table border=\"1\" class=\"dataframe\">\n",
       "  <thead>\n",
       "    <tr style=\"text-align: right;\">\n",
       "      <th></th>\n",
       "      <th>nconst</th>\n",
       "      <th>primaryName</th>\n",
       "      <th>birthYear</th>\n",
       "      <th>deathYear</th>\n",
       "      <th>primaryProfession</th>\n",
       "      <th>knownForTitles</th>\n",
       "    </tr>\n",
       "  </thead>\n",
       "  <tbody>\n",
       "    <tr>\n",
       "      <th>637826</th>\n",
       "      <td>nm0675239</td>\n",
       "      <td>Orrie Perry</td>\n",
       "      <td>1888</td>\n",
       "      <td>1950</td>\n",
       "      <td>cinematographer,actor</td>\n",
       "      <td>tt0000335,tt0322792,tt0336770,tt0000574</td>\n",
       "    </tr>\n",
       "  </tbody>\n",
       "</table>\n",
       "</div>"
      ],
      "text/plain": [
       "           nconst  primaryName birthYear deathYear      primaryProfession  \\\n",
       "637826  nm0675239  Orrie Perry      1888      1950  cinematographer,actor   \n",
       "\n",
       "                                 knownForTitles  \n",
       "637826  tt0000335,tt0322792,tt0336770,tt0000574  "
      ]
     },
     "execution_count": 96,
     "metadata": {},
     "output_type": "execute_result"
    }
   ],
   "source": [
    "name_basics[name_basics['nconst'] == 'nm0675239']"
   ]
  },
  {
   "cell_type": "code",
   "execution_count": 98,
   "metadata": {
    "hidden": true
   },
   "outputs": [
    {
     "data": {
      "text/html": [
       "<div>\n",
       "<style scoped>\n",
       "    .dataframe tbody tr th:only-of-type {\n",
       "        vertical-align: middle;\n",
       "    }\n",
       "\n",
       "    .dataframe tbody tr th {\n",
       "        vertical-align: top;\n",
       "    }\n",
       "\n",
       "    .dataframe thead th {\n",
       "        text-align: right;\n",
       "    }\n",
       "</style>\n",
       "<table border=\"1\" class=\"dataframe\">\n",
       "  <thead>\n",
       "    <tr style=\"text-align: right;\">\n",
       "      <th></th>\n",
       "      <th>tconst</th>\n",
       "      <th>ordering</th>\n",
       "      <th>nconst</th>\n",
       "      <th>category</th>\n",
       "      <th>job</th>\n",
       "      <th>characters</th>\n",
       "    </tr>\n",
       "  </thead>\n",
       "  <tbody>\n",
       "    <tr>\n",
       "      <th>1040</th>\n",
       "      <td>tt0000574</td>\n",
       "      <td>10</td>\n",
       "      <td>nm0675239</td>\n",
       "      <td>cinematographer</td>\n",
       "      <td>director of photography</td>\n",
       "      <td>\\N</td>\n",
       "    </tr>\n",
       "    <tr>\n",
       "      <th>1587750</th>\n",
       "      <td>tt0203943</td>\n",
       "      <td>6</td>\n",
       "      <td>nm0675239</td>\n",
       "      <td>cinematographer</td>\n",
       "      <td>\\N</td>\n",
       "      <td>\\N</td>\n",
       "    </tr>\n",
       "  </tbody>\n",
       "</table>\n",
       "</div>"
      ],
      "text/plain": [
       "            tconst  ordering     nconst         category  \\\n",
       "1040     tt0000574        10  nm0675239  cinematographer   \n",
       "1587750  tt0203943         6  nm0675239  cinematographer   \n",
       "\n",
       "                             job characters  \n",
       "1040     director of photography         \\N  \n",
       "1587750                       \\N         \\N  "
      ]
     },
     "execution_count": 98,
     "metadata": {},
     "output_type": "execute_result"
    }
   ],
   "source": [
    "title_principals[title_principals['nconst'] == 'nm0675239']"
   ]
  },
  {
   "cell_type": "code",
   "execution_count": 99,
   "metadata": {
    "hidden": true
   },
   "outputs": [],
   "source": [
    "name_basics_title_principals = pd.merge(name_basics, title_principals, on='nconst', how='left')"
   ]
  },
  {
   "cell_type": "code",
   "execution_count": 100,
   "metadata": {
    "hidden": true
   },
   "outputs": [
    {
     "data": {
      "text/plain": [
       "(12149281, 11)"
      ]
     },
     "execution_count": 100,
     "metadata": {},
     "output_type": "execute_result"
    }
   ],
   "source": [
    "name_basics_title_principals.shape"
   ]
  },
  {
   "cell_type": "code",
   "execution_count": 101,
   "metadata": {
    "hidden": true
   },
   "outputs": [],
   "source": [
    "name_basics_title_principals = name_basics_title_principals[name_basics_title_principals['tconst'].isin(title_basics_rating_ids)]"
   ]
  },
  {
   "cell_type": "code",
   "execution_count": 102,
   "metadata": {
    "hidden": true
   },
   "outputs": [
    {
     "data": {
      "text/plain": [
       "(2068791, 11)"
      ]
     },
     "execution_count": 102,
     "metadata": {},
     "output_type": "execute_result"
    }
   ],
   "source": [
    "name_basics_title_principals.shape"
   ]
  },
  {
   "cell_type": "code",
   "execution_count": 104,
   "metadata": {
    "hidden": true
   },
   "outputs": [
    {
     "data": {
      "text/html": [
       "<div>\n",
       "<style scoped>\n",
       "    .dataframe tbody tr th:only-of-type {\n",
       "        vertical-align: middle;\n",
       "    }\n",
       "\n",
       "    .dataframe tbody tr th {\n",
       "        vertical-align: top;\n",
       "    }\n",
       "\n",
       "    .dataframe thead th {\n",
       "        text-align: right;\n",
       "    }\n",
       "</style>\n",
       "<table border=\"1\" class=\"dataframe\">\n",
       "  <thead>\n",
       "    <tr style=\"text-align: right;\">\n",
       "      <th></th>\n",
       "      <th>nconst</th>\n",
       "      <th>primaryName</th>\n",
       "      <th>birthYear</th>\n",
       "      <th>deathYear</th>\n",
       "      <th>primaryProfession</th>\n",
       "      <th>knownForTitles</th>\n",
       "      <th>tconst</th>\n",
       "      <th>ordering</th>\n",
       "      <th>category</th>\n",
       "      <th>job</th>\n",
       "      <th>characters</th>\n",
       "    </tr>\n",
       "  </thead>\n",
       "  <tbody>\n",
       "    <tr>\n",
       "      <th>12149059</th>\n",
       "      <td>nm9993485</td>\n",
       "      <td>Augusto Cortesi</td>\n",
       "      <td>\\N</td>\n",
       "      <td>\\N</td>\n",
       "      <td>actor</td>\n",
       "      <td>tt9534676,tt9615718</td>\n",
       "      <td>tt9615718</td>\n",
       "      <td>4.0</td>\n",
       "      <td>actor</td>\n",
       "      <td>\\N</td>\n",
       "      <td>[\"Robot Leader\"]</td>\n",
       "    </tr>\n",
       "    <tr>\n",
       "      <th>12149068</th>\n",
       "      <td>nm9993494</td>\n",
       "      <td>Amjad Ali</td>\n",
       "      <td>\\N</td>\n",
       "      <td>\\N</td>\n",
       "      <td>writer</td>\n",
       "      <td>tt7722258</td>\n",
       "      <td>tt7722258</td>\n",
       "      <td>7.0</td>\n",
       "      <td>writer</td>\n",
       "      <td>screenplay and dialogue</td>\n",
       "      <td>\\N</td>\n",
       "    </tr>\n",
       "    <tr>\n",
       "      <th>12149181</th>\n",
       "      <td>nm9993616</td>\n",
       "      <td>Ryan Mac Lennan</td>\n",
       "      <td>\\N</td>\n",
       "      <td>\\N</td>\n",
       "      <td>actor</td>\n",
       "      <td>tt4844148</td>\n",
       "      <td>tt4844148</td>\n",
       "      <td>4.0</td>\n",
       "      <td>actor</td>\n",
       "      <td>\\N</td>\n",
       "      <td>[\"Mick Owen\"]</td>\n",
       "    </tr>\n",
       "    <tr>\n",
       "      <th>12149213</th>\n",
       "      <td>nm9993650</td>\n",
       "      <td>Marcin Balcerak</td>\n",
       "      <td>\\N</td>\n",
       "      <td>\\N</td>\n",
       "      <td>actor</td>\n",
       "      <td>tt8739208</td>\n",
       "      <td>tt8739208</td>\n",
       "      <td>4.0</td>\n",
       "      <td>actor</td>\n",
       "      <td>\\N</td>\n",
       "      <td>[\"Guardian\"]</td>\n",
       "    </tr>\n",
       "    <tr>\n",
       "      <th>12149256</th>\n",
       "      <td>nm9993693</td>\n",
       "      <td>Anketa Maharana</td>\n",
       "      <td>\\N</td>\n",
       "      <td>\\N</td>\n",
       "      <td>actress</td>\n",
       "      <td>tt9815360,tt14087492,tt8737752</td>\n",
       "      <td>tt9815360</td>\n",
       "      <td>2.0</td>\n",
       "      <td>actress</td>\n",
       "      <td>\\N</td>\n",
       "      <td>[\"Anupama\"]</td>\n",
       "    </tr>\n",
       "  </tbody>\n",
       "</table>\n",
       "</div>"
      ],
      "text/plain": [
       "             nconst      primaryName birthYear deathYear primaryProfession  \\\n",
       "12149059  nm9993485  Augusto Cortesi        \\N        \\N             actor   \n",
       "12149068  nm9993494        Amjad Ali        \\N        \\N            writer   \n",
       "12149181  nm9993616  Ryan Mac Lennan        \\N        \\N             actor   \n",
       "12149213  nm9993650  Marcin Balcerak        \\N        \\N             actor   \n",
       "12149256  nm9993693  Anketa Maharana        \\N        \\N           actress   \n",
       "\n",
       "                          knownForTitles     tconst  ordering category  \\\n",
       "12149059             tt9534676,tt9615718  tt9615718       4.0    actor   \n",
       "12149068                       tt7722258  tt7722258       7.0   writer   \n",
       "12149181                       tt4844148  tt4844148       4.0    actor   \n",
       "12149213                       tt8739208  tt8739208       4.0    actor   \n",
       "12149256  tt9815360,tt14087492,tt8737752  tt9815360       2.0  actress   \n",
       "\n",
       "                              job        characters  \n",
       "12149059                       \\N  [\"Robot Leader\"]  \n",
       "12149068  screenplay and dialogue                \\N  \n",
       "12149181                       \\N     [\"Mick Owen\"]  \n",
       "12149213                       \\N      [\"Guardian\"]  \n",
       "12149256                       \\N       [\"Anupama\"]  "
      ]
     },
     "execution_count": 104,
     "metadata": {},
     "output_type": "execute_result"
    }
   ],
   "source": [
    "name_basics_title_principals.tail()"
   ]
  },
  {
   "cell_type": "markdown",
   "metadata": {
    "heading_collapsed": true,
    "hidden": true
   },
   "source": [
    "### E) Data Not Useful"
   ]
  },
  {
   "cell_type": "markdown",
   "metadata": {
    "heading_collapsed": true,
    "hidden": true
   },
   "source": [
    "#### title.akas.tsv - not useful"
   ]
  },
  {
   "cell_type": "code",
   "execution_count": 104,
   "metadata": {
    "hidden": true
   },
   "outputs": [],
   "source": [
    "# title_akas = pd.read_table(DATA_DIR+\"title.akas.tsv\")"
   ]
  },
  {
   "cell_type": "markdown",
   "metadata": {
    "heading_collapsed": true,
    "hidden": true
   },
   "source": [
    "#### title.crew.tsv – Contains the director and writer information for all the titles in IMDb. Not useful"
   ]
  },
  {
   "cell_type": "code",
   "execution_count": 106,
   "metadata": {
    "hidden": true
   },
   "outputs": [],
   "source": [
    "title_crew = pd.read_table(DATA_DIR+\"title.crew.tsv\")\n",
    "title_crew.shape\n",
    "title_crew.head()\n",
    "title_crew.duplicated().any()\n",
    "len(title_crew['tconst'].unique())\n",
    "title_crew.isna().sum().sum()\n",
    "del title_crew"
   ]
  },
  {
   "cell_type": "markdown",
   "metadata": {
    "heading_collapsed": true,
    "hidden": true
   },
   "source": [
    "#### title.episode.tsv – Contains the tv episode information. - not useful"
   ]
  },
  {
   "cell_type": "code",
   "execution_count": null,
   "metadata": {
    "hidden": true
   },
   "outputs": [],
   "source": [
    "title_episode = pd.read_table(DATA_DIR+\"title.episode.tsv\")\n",
    "title_episode.shape"
   ]
  },
  {
   "cell_type": "code",
   "execution_count": null,
   "metadata": {
    "hidden": true
   },
   "outputs": [],
   "source": [
    "title_episode.head()"
   ]
  },
  {
   "cell_type": "code",
   "execution_count": null,
   "metadata": {
    "hidden": true
   },
   "outputs": [],
   "source": [
    "title_episode.duplicated().any()"
   ]
  },
  {
   "cell_type": "code",
   "execution_count": null,
   "metadata": {
    "hidden": true
   },
   "outputs": [],
   "source": [
    "len(title_episode['tconst'].unique())"
   ]
  },
  {
   "cell_type": "code",
   "execution_count": null,
   "metadata": {
    "hidden": true
   },
   "outputs": [],
   "source": [
    "title_episode.isna().sum().sum()"
   ]
  },
  {
   "cell_type": "markdown",
   "metadata": {
    "hidden": true
   },
   "source": [
    "#### How many regions did the movie get released into? Is there any correlation between num_regions and avg. rating ?"
   ]
  },
  {
   "cell_type": "code",
   "execution_count": null,
   "metadata": {
    "hidden": true
   },
   "outputs": [],
   "source": [
    "#title_akas[title_akas['titleId'] == 'tt0000005']\n",
    "#title_akas.shape\n",
    "#title_akas_max_region = title_akas.sort_values('ordering', ascending=False).groupby('titleId').head(1)\n",
    "#len(title_akas_max_region['titleId'].unique())\n",
    "#title_akas_max_region = title_akas_max_region[['titleId','ordering']]\n",
    "#title_akas_max_region.columns = ['titleId', 'num_regions']\n",
    "#title_akas_max_region\n",
    "#df_merged = pd.merge(df_merged, title_akas_max_region, left_on='tconst', right_on='titleId', how='left')\n",
    "#df_merged.isna().sum()\n",
    "#df_merged[['num_regions', 'averageRating']].corr()\n",
    "\n",
    "# del title_akas\n",
    "\n",
    "# # collecting garbage\n",
    "# collected = gc.collect()\n",
    "# print(\"Garbage collector: collected\",\n",
    "#           \"%d objects.\" % collected)\n",
    "#psutil.virtual_memory()"
   ]
  },
  {
   "cell_type": "markdown",
   "metadata": {
    "hidden": true
   },
   "source": [
    "No correlation between num_regions and averageRating"
   ]
  },
  {
   "cell_type": "markdown",
   "metadata": {
    "heading_collapsed": true,
    "hidden": true
   },
   "source": [
    "### F) Merge `name_basics_title_principals` and `title_basics_rating`"
   ]
  },
  {
   "cell_type": "code",
   "execution_count": 113,
   "metadata": {
    "hidden": true
   },
   "outputs": [
    {
     "data": {
      "text/html": [
       "<div>\n",
       "<style scoped>\n",
       "    .dataframe tbody tr th:only-of-type {\n",
       "        vertical-align: middle;\n",
       "    }\n",
       "\n",
       "    .dataframe tbody tr th {\n",
       "        vertical-align: top;\n",
       "    }\n",
       "\n",
       "    .dataframe thead th {\n",
       "        text-align: right;\n",
       "    }\n",
       "</style>\n",
       "<table border=\"1\" class=\"dataframe\">\n",
       "  <thead>\n",
       "    <tr style=\"text-align: right;\">\n",
       "      <th></th>\n",
       "      <th>tconst</th>\n",
       "      <th>primaryTitle</th>\n",
       "      <th>isAdult</th>\n",
       "      <th>runtimeMinutes</th>\n",
       "      <th>genres</th>\n",
       "      <th>averageRating</th>\n",
       "      <th>numVotes</th>\n",
       "    </tr>\n",
       "  </thead>\n",
       "  <tbody>\n",
       "    <tr>\n",
       "      <th>0</th>\n",
       "      <td>tt0000574</td>\n",
       "      <td>The Story of the Kelly Gang</td>\n",
       "      <td>0</td>\n",
       "      <td>70</td>\n",
       "      <td>Action,Adventure,Biography</td>\n",
       "      <td>6.1</td>\n",
       "      <td>625.0</td>\n",
       "    </tr>\n",
       "  </tbody>\n",
       "</table>\n",
       "</div>"
      ],
      "text/plain": [
       "      tconst                 primaryTitle  isAdult  runtimeMinutes  \\\n",
       "0  tt0000574  The Story of the Kelly Gang        0              70   \n",
       "\n",
       "                       genres  averageRating  numVotes  \n",
       "0  Action,Adventure,Biography            6.1     625.0  "
      ]
     },
     "execution_count": 113,
     "metadata": {},
     "output_type": "execute_result"
    }
   ],
   "source": [
    "title_basics_rating.head(1)"
   ]
  },
  {
   "cell_type": "code",
   "execution_count": 114,
   "metadata": {
    "hidden": true
   },
   "outputs": [
    {
     "data": {
      "text/html": [
       "<div>\n",
       "<style scoped>\n",
       "    .dataframe tbody tr th:only-of-type {\n",
       "        vertical-align: middle;\n",
       "    }\n",
       "\n",
       "    .dataframe tbody tr th {\n",
       "        vertical-align: top;\n",
       "    }\n",
       "\n",
       "    .dataframe thead th {\n",
       "        text-align: right;\n",
       "    }\n",
       "</style>\n",
       "<table border=\"1\" class=\"dataframe\">\n",
       "  <thead>\n",
       "    <tr style=\"text-align: right;\">\n",
       "      <th></th>\n",
       "      <th>nconst</th>\n",
       "      <th>primaryName</th>\n",
       "      <th>birthYear</th>\n",
       "      <th>deathYear</th>\n",
       "      <th>primaryProfession</th>\n",
       "      <th>knownForTitles</th>\n",
       "      <th>tconst</th>\n",
       "      <th>ordering</th>\n",
       "      <th>category</th>\n",
       "      <th>job</th>\n",
       "      <th>characters</th>\n",
       "    </tr>\n",
       "  </thead>\n",
       "  <tbody>\n",
       "    <tr>\n",
       "      <th>0</th>\n",
       "      <td>nm0000001</td>\n",
       "      <td>Fred Astaire</td>\n",
       "      <td>1899</td>\n",
       "      <td>1987</td>\n",
       "      <td>soundtrack,actor,miscellaneous</td>\n",
       "      <td>tt0031983,tt0072308,tt0053137,tt0050419</td>\n",
       "      <td>tt0025164</td>\n",
       "      <td>1.0</td>\n",
       "      <td>actor</td>\n",
       "      <td>\\N</td>\n",
       "      <td>[\"Guy Holden\"]</td>\n",
       "    </tr>\n",
       "  </tbody>\n",
       "</table>\n",
       "</div>"
      ],
      "text/plain": [
       "      nconst   primaryName birthYear deathYear  \\\n",
       "0  nm0000001  Fred Astaire      1899      1987   \n",
       "\n",
       "                primaryProfession                           knownForTitles  \\\n",
       "0  soundtrack,actor,miscellaneous  tt0031983,tt0072308,tt0053137,tt0050419   \n",
       "\n",
       "      tconst  ordering category job      characters  \n",
       "0  tt0025164       1.0    actor  \\N  [\"Guy Holden\"]  "
      ]
     },
     "execution_count": 114,
     "metadata": {},
     "output_type": "execute_result"
    }
   ],
   "source": [
    "name_basics_title_principals.head(1)"
   ]
  },
  {
   "cell_type": "code",
   "execution_count": 120,
   "metadata": {
    "hidden": true
   },
   "outputs": [],
   "source": [
    "crew_titles_ratings = pd.merge(title_basics_rating, name_basics_title_principals, on='tconst', how='left')"
   ]
  },
  {
   "cell_type": "code",
   "execution_count": 121,
   "metadata": {
    "hidden": true
   },
   "outputs": [
    {
     "data": {
      "text/plain": [
       "(2068974, 17)"
      ]
     },
     "execution_count": 121,
     "metadata": {},
     "output_type": "execute_result"
    }
   ],
   "source": [
    "crew_titles_ratings.shape"
   ]
  },
  {
   "cell_type": "code",
   "execution_count": 122,
   "metadata": {
    "hidden": true
   },
   "outputs": [
    {
     "data": {
      "text/html": [
       "<div>\n",
       "<style scoped>\n",
       "    .dataframe tbody tr th:only-of-type {\n",
       "        vertical-align: middle;\n",
       "    }\n",
       "\n",
       "    .dataframe tbody tr th {\n",
       "        vertical-align: top;\n",
       "    }\n",
       "\n",
       "    .dataframe thead th {\n",
       "        text-align: right;\n",
       "    }\n",
       "</style>\n",
       "<table border=\"1\" class=\"dataframe\">\n",
       "  <thead>\n",
       "    <tr style=\"text-align: right;\">\n",
       "      <th></th>\n",
       "      <th>tconst</th>\n",
       "      <th>primaryTitle</th>\n",
       "      <th>isAdult</th>\n",
       "      <th>runtimeMinutes</th>\n",
       "      <th>genres</th>\n",
       "      <th>averageRating</th>\n",
       "      <th>numVotes</th>\n",
       "      <th>nconst</th>\n",
       "      <th>primaryName</th>\n",
       "      <th>birthYear</th>\n",
       "      <th>deathYear</th>\n",
       "      <th>primaryProfession</th>\n",
       "      <th>knownForTitles</th>\n",
       "      <th>ordering</th>\n",
       "      <th>category</th>\n",
       "      <th>job</th>\n",
       "      <th>characters</th>\n",
       "    </tr>\n",
       "  </thead>\n",
       "  <tbody>\n",
       "    <tr>\n",
       "      <th>2068969</th>\n",
       "      <td>tt9916538</td>\n",
       "      <td>Kuambil Lagi Hatiku</td>\n",
       "      <td>0</td>\n",
       "      <td>123</td>\n",
       "      <td>Drama</td>\n",
       "      <td>8.3</td>\n",
       "      <td>6.0</td>\n",
       "      <td>nm4457074</td>\n",
       "      <td>Azhar Kinoi Lubis</td>\n",
       "      <td>\\N</td>\n",
       "      <td>\\N</td>\n",
       "      <td>director,assistant_director</td>\n",
       "      <td>tt9916538,tt8517144,tt1930290,tt5774688</td>\n",
       "      <td>5.0</td>\n",
       "      <td>director</td>\n",
       "      <td>\\N</td>\n",
       "      <td>\\N</td>\n",
       "    </tr>\n",
       "    <tr>\n",
       "      <th>2068970</th>\n",
       "      <td>tt9916538</td>\n",
       "      <td>Kuambil Lagi Hatiku</td>\n",
       "      <td>0</td>\n",
       "      <td>123</td>\n",
       "      <td>Drama</td>\n",
       "      <td>8.3</td>\n",
       "      <td>6.0</td>\n",
       "      <td>nm4700236</td>\n",
       "      <td>Dave Lumenta</td>\n",
       "      <td>\\N</td>\n",
       "      <td>\\N</td>\n",
       "      <td>composer,actor,music_department</td>\n",
       "      <td>tt3777170,tt9916538,tt7541708,tt2073058</td>\n",
       "      <td>10.0</td>\n",
       "      <td>composer</td>\n",
       "      <td>music director</td>\n",
       "      <td>\\N</td>\n",
       "    </tr>\n",
       "    <tr>\n",
       "      <th>2068971</th>\n",
       "      <td>tt9916538</td>\n",
       "      <td>Kuambil Lagi Hatiku</td>\n",
       "      <td>0</td>\n",
       "      <td>123</td>\n",
       "      <td>Drama</td>\n",
       "      <td>8.3</td>\n",
       "      <td>6.0</td>\n",
       "      <td>nm4843252</td>\n",
       "      <td>Arief Ash Siddiq</td>\n",
       "      <td>\\N</td>\n",
       "      <td>\\N</td>\n",
       "      <td>writer,producer,actor</td>\n",
       "      <td>tt9916538,tt12741494,tt12484670,tt2172015</td>\n",
       "      <td>6.0</td>\n",
       "      <td>writer</td>\n",
       "      <td>script writer</td>\n",
       "      <td>\\N</td>\n",
       "    </tr>\n",
       "    <tr>\n",
       "      <th>2068972</th>\n",
       "      <td>tt9916538</td>\n",
       "      <td>Kuambil Lagi Hatiku</td>\n",
       "      <td>0</td>\n",
       "      <td>123</td>\n",
       "      <td>Drama</td>\n",
       "      <td>8.3</td>\n",
       "      <td>6.0</td>\n",
       "      <td>nm4900525</td>\n",
       "      <td>Rino Sarjono</td>\n",
       "      <td>\\N</td>\n",
       "      <td>\\N</td>\n",
       "      <td>writer,producer,actor</td>\n",
       "      <td>tt11554776,tt9916538,tt2190357,tt8712194</td>\n",
       "      <td>7.0</td>\n",
       "      <td>writer</td>\n",
       "      <td>script writer</td>\n",
       "      <td>\\N</td>\n",
       "    </tr>\n",
       "    <tr>\n",
       "      <th>2068973</th>\n",
       "      <td>tt9916538</td>\n",
       "      <td>Kuambil Lagi Hatiku</td>\n",
       "      <td>0</td>\n",
       "      <td>123</td>\n",
       "      <td>Drama</td>\n",
       "      <td>8.3</td>\n",
       "      <td>6.0</td>\n",
       "      <td>nm8678236</td>\n",
       "      <td>Lala Karmela</td>\n",
       "      <td>\\N</td>\n",
       "      <td>\\N</td>\n",
       "      <td>actress</td>\n",
       "      <td>tt6380556,tt8060288,tt9916538,tt6503596</td>\n",
       "      <td>1.0</td>\n",
       "      <td>actress</td>\n",
       "      <td>\\N</td>\n",
       "      <td>[\"Sinta\"]</td>\n",
       "    </tr>\n",
       "  </tbody>\n",
       "</table>\n",
       "</div>"
      ],
      "text/plain": [
       "            tconst         primaryTitle  isAdult  runtimeMinutes genres  \\\n",
       "2068969  tt9916538  Kuambil Lagi Hatiku        0             123  Drama   \n",
       "2068970  tt9916538  Kuambil Lagi Hatiku        0             123  Drama   \n",
       "2068971  tt9916538  Kuambil Lagi Hatiku        0             123  Drama   \n",
       "2068972  tt9916538  Kuambil Lagi Hatiku        0             123  Drama   \n",
       "2068973  tt9916538  Kuambil Lagi Hatiku        0             123  Drama   \n",
       "\n",
       "         averageRating  numVotes     nconst        primaryName birthYear  \\\n",
       "2068969            8.3       6.0  nm4457074  Azhar Kinoi Lubis        \\N   \n",
       "2068970            8.3       6.0  nm4700236       Dave Lumenta        \\N   \n",
       "2068971            8.3       6.0  nm4843252   Arief Ash Siddiq        \\N   \n",
       "2068972            8.3       6.0  nm4900525       Rino Sarjono        \\N   \n",
       "2068973            8.3       6.0  nm8678236       Lala Karmela        \\N   \n",
       "\n",
       "        deathYear                primaryProfession  \\\n",
       "2068969        \\N      director,assistant_director   \n",
       "2068970        \\N  composer,actor,music_department   \n",
       "2068971        \\N            writer,producer,actor   \n",
       "2068972        \\N            writer,producer,actor   \n",
       "2068973        \\N                          actress   \n",
       "\n",
       "                                    knownForTitles  ordering  category  \\\n",
       "2068969    tt9916538,tt8517144,tt1930290,tt5774688       5.0  director   \n",
       "2068970    tt3777170,tt9916538,tt7541708,tt2073058      10.0  composer   \n",
       "2068971  tt9916538,tt12741494,tt12484670,tt2172015       6.0    writer   \n",
       "2068972   tt11554776,tt9916538,tt2190357,tt8712194       7.0    writer   \n",
       "2068973    tt6380556,tt8060288,tt9916538,tt6503596       1.0   actress   \n",
       "\n",
       "                    job characters  \n",
       "2068969              \\N         \\N  \n",
       "2068970  music director         \\N  \n",
       "2068971   script writer         \\N  \n",
       "2068972   script writer         \\N  \n",
       "2068973              \\N  [\"Sinta\"]  "
      ]
     },
     "execution_count": 122,
     "metadata": {},
     "output_type": "execute_result"
    }
   ],
   "source": [
    "crew_titles_ratings.tail()"
   ]
  },
  {
   "cell_type": "code",
   "execution_count": 118,
   "metadata": {
    "hidden": true
   },
   "outputs": [
    {
     "data": {
      "text/plain": [
       "svmem(total=17011007488, available=3228131328, percent=81.0, used=13782876160, free=3228131328)"
      ]
     },
     "execution_count": 118,
     "metadata": {},
     "output_type": "execute_result"
    }
   ],
   "source": [
    "psutil.virtual_memory()"
   ]
  },
  {
   "cell_type": "code",
   "execution_count": 123,
   "metadata": {
    "hidden": true
   },
   "outputs": [
    {
     "data": {
      "text/plain": [
       "Index(['tconst', 'primaryTitle', 'isAdult', 'runtimeMinutes', 'genres',\n",
       "       'averageRating', 'numVotes', 'nconst', 'primaryName', 'birthYear',\n",
       "       'deathYear', 'primaryProfession', 'knownForTitles', 'ordering',\n",
       "       'category', 'job', 'characters'],\n",
       "      dtype='object')"
      ]
     },
     "execution_count": 123,
     "metadata": {},
     "output_type": "execute_result"
    }
   ],
   "source": [
    "crew_titles_ratings.columns"
   ]
  },
  {
   "cell_type": "code",
   "execution_count": 125,
   "metadata": {
    "hidden": true
   },
   "outputs": [],
   "source": [
    "crew_titles_ratings = crew_titles_ratings[['tconst', 'primaryTitle', 'isAdult', 'runtimeMinutes', 'genres',\n",
    "       'averageRating', 'numVotes', 'nconst', 'primaryName', 'ordering','category', ]]"
   ]
  },
  {
   "cell_type": "code",
   "execution_count": 126,
   "metadata": {
    "hidden": true
   },
   "outputs": [
    {
     "data": {
      "text/html": [
       "<div>\n",
       "<style scoped>\n",
       "    .dataframe tbody tr th:only-of-type {\n",
       "        vertical-align: middle;\n",
       "    }\n",
       "\n",
       "    .dataframe tbody tr th {\n",
       "        vertical-align: top;\n",
       "    }\n",
       "\n",
       "    .dataframe thead th {\n",
       "        text-align: right;\n",
       "    }\n",
       "</style>\n",
       "<table border=\"1\" class=\"dataframe\">\n",
       "  <thead>\n",
       "    <tr style=\"text-align: right;\">\n",
       "      <th></th>\n",
       "      <th>tconst</th>\n",
       "      <th>primaryTitle</th>\n",
       "      <th>isAdult</th>\n",
       "      <th>runtimeMinutes</th>\n",
       "      <th>genres</th>\n",
       "      <th>averageRating</th>\n",
       "      <th>numVotes</th>\n",
       "      <th>nconst</th>\n",
       "      <th>primaryName</th>\n",
       "      <th>ordering</th>\n",
       "      <th>category</th>\n",
       "    </tr>\n",
       "  </thead>\n",
       "  <tbody>\n",
       "    <tr>\n",
       "      <th>0</th>\n",
       "      <td>tt0000574</td>\n",
       "      <td>The Story of the Kelly Gang</td>\n",
       "      <td>0</td>\n",
       "      <td>70</td>\n",
       "      <td>Action,Adventure,Biography</td>\n",
       "      <td>6.1</td>\n",
       "      <td>625.0</td>\n",
       "      <td>nm0170118</td>\n",
       "      <td>Bella Cola</td>\n",
       "      <td>4.0</td>\n",
       "      <td>actress</td>\n",
       "    </tr>\n",
       "    <tr>\n",
       "      <th>1</th>\n",
       "      <td>tt0000574</td>\n",
       "      <td>The Story of the Kelly Gang</td>\n",
       "      <td>0</td>\n",
       "      <td>70</td>\n",
       "      <td>Action,Adventure,Biography</td>\n",
       "      <td>6.1</td>\n",
       "      <td>625.0</td>\n",
       "      <td>nm0317210</td>\n",
       "      <td>W.A. Gibson</td>\n",
       "      <td>6.0</td>\n",
       "      <td>producer</td>\n",
       "    </tr>\n",
       "    <tr>\n",
       "      <th>2</th>\n",
       "      <td>tt0000574</td>\n",
       "      <td>The Story of the Kelly Gang</td>\n",
       "      <td>0</td>\n",
       "      <td>70</td>\n",
       "      <td>Action,Adventure,Biography</td>\n",
       "      <td>6.1</td>\n",
       "      <td>625.0</td>\n",
       "      <td>nm0425854</td>\n",
       "      <td>Millard Johnson</td>\n",
       "      <td>7.0</td>\n",
       "      <td>producer</td>\n",
       "    </tr>\n",
       "    <tr>\n",
       "      <th>3</th>\n",
       "      <td>tt0000574</td>\n",
       "      <td>The Story of the Kelly Gang</td>\n",
       "      <td>0</td>\n",
       "      <td>70</td>\n",
       "      <td>Action,Adventure,Biography</td>\n",
       "      <td>6.1</td>\n",
       "      <td>625.0</td>\n",
       "      <td>nm0675239</td>\n",
       "      <td>Orrie Perry</td>\n",
       "      <td>10.0</td>\n",
       "      <td>cinematographer</td>\n",
       "    </tr>\n",
       "    <tr>\n",
       "      <th>4</th>\n",
       "      <td>tt0000574</td>\n",
       "      <td>The Story of the Kelly Gang</td>\n",
       "      <td>0</td>\n",
       "      <td>70</td>\n",
       "      <td>Action,Adventure,Biography</td>\n",
       "      <td>6.1</td>\n",
       "      <td>625.0</td>\n",
       "      <td>nm0846879</td>\n",
       "      <td>Charles Tait</td>\n",
       "      <td>5.0</td>\n",
       "      <td>director</td>\n",
       "    </tr>\n",
       "  </tbody>\n",
       "</table>\n",
       "</div>"
      ],
      "text/plain": [
       "      tconst                 primaryTitle  isAdult  runtimeMinutes  \\\n",
       "0  tt0000574  The Story of the Kelly Gang        0              70   \n",
       "1  tt0000574  The Story of the Kelly Gang        0              70   \n",
       "2  tt0000574  The Story of the Kelly Gang        0              70   \n",
       "3  tt0000574  The Story of the Kelly Gang        0              70   \n",
       "4  tt0000574  The Story of the Kelly Gang        0              70   \n",
       "\n",
       "                       genres  averageRating  numVotes     nconst  \\\n",
       "0  Action,Adventure,Biography            6.1     625.0  nm0170118   \n",
       "1  Action,Adventure,Biography            6.1     625.0  nm0317210   \n",
       "2  Action,Adventure,Biography            6.1     625.0  nm0425854   \n",
       "3  Action,Adventure,Biography            6.1     625.0  nm0675239   \n",
       "4  Action,Adventure,Biography            6.1     625.0  nm0846879   \n",
       "\n",
       "       primaryName  ordering         category  \n",
       "0       Bella Cola       4.0          actress  \n",
       "1      W.A. Gibson       6.0         producer  \n",
       "2  Millard Johnson       7.0         producer  \n",
       "3      Orrie Perry      10.0  cinematographer  \n",
       "4     Charles Tait       5.0         director  "
      ]
     },
     "execution_count": 126,
     "metadata": {},
     "output_type": "execute_result"
    }
   ],
   "source": [
    "crew_titles_ratings.head()"
   ]
  },
  {
   "cell_type": "code",
   "execution_count": 127,
   "metadata": {
    "hidden": true
   },
   "outputs": [
    {
     "data": {
      "text/plain": [
       "array(['actress', 'producer', 'cinematographer', 'director', 'actor',\n",
       "       'composer', 'writer', 'production_designer', 'editor', 'self',\n",
       "       'archive_footage', nan, 'archive_sound'], dtype=object)"
      ]
     },
     "execution_count": 127,
     "metadata": {},
     "output_type": "execute_result"
    }
   ],
   "source": [
    "crew_titles_ratings['category'].unique()"
   ]
  },
  {
   "cell_type": "code",
   "execution_count": 128,
   "metadata": {
    "hidden": true
   },
   "outputs": [
    {
     "data": {
      "text/plain": [
       "actor                  535215\n",
       "actress                322945\n",
       "writer                 245900\n",
       "director               238958\n",
       "producer               202891\n",
       "composer               164386\n",
       "cinematographer        159527\n",
       "editor                 101237\n",
       "self                    67594\n",
       "production_designer     22781\n",
       "archive_footage          7324\n",
       "archive_sound              33\n",
       "Name: category, dtype: int64"
      ]
     },
     "execution_count": 128,
     "metadata": {},
     "output_type": "execute_result"
    }
   ],
   "source": [
    "crew_titles_ratings['category'].value_counts()"
   ]
  },
  {
   "cell_type": "code",
   "execution_count": 129,
   "metadata": {
    "hidden": true
   },
   "outputs": [
    {
     "data": {
      "text/plain": [
       "tconst              0\n",
       "primaryTitle        0\n",
       "isAdult             0\n",
       "runtimeMinutes      0\n",
       "genres              0\n",
       "averageRating       0\n",
       "numVotes            0\n",
       "nconst            183\n",
       "primaryName       183\n",
       "ordering          183\n",
       "category          183\n",
       "dtype: int64"
      ]
     },
     "execution_count": 129,
     "metadata": {},
     "output_type": "execute_result"
    }
   ],
   "source": [
    "crew_titles_ratings.isna().sum()"
   ]
  },
  {
   "cell_type": "code",
   "execution_count": 131,
   "metadata": {
    "hidden": true
   },
   "outputs": [
    {
     "data": {
      "text/plain": [
       "(2068974, 11)"
      ]
     },
     "execution_count": 131,
     "metadata": {},
     "output_type": "execute_result"
    }
   ],
   "source": [
    "crew_titles_ratings.shape"
   ]
  },
  {
   "cell_type": "code",
   "execution_count": 132,
   "metadata": {
    "hidden": true
   },
   "outputs": [],
   "source": [
    "crew_titles_ratings = crew_titles_ratings.dropna()"
   ]
  },
  {
   "cell_type": "code",
   "execution_count": 136,
   "metadata": {
    "hidden": true
   },
   "outputs": [
    {
     "data": {
      "text/plain": [
       "(2068791, 11)"
      ]
     },
     "execution_count": 136,
     "metadata": {},
     "output_type": "execute_result"
    }
   ],
   "source": [
    "crew_titles_ratings.shape"
   ]
  },
  {
   "cell_type": "code",
   "execution_count": 137,
   "metadata": {
    "hidden": true
   },
   "outputs": [
    {
     "data": {
      "text/html": [
       "<div>\n",
       "<style scoped>\n",
       "    .dataframe tbody tr th:only-of-type {\n",
       "        vertical-align: middle;\n",
       "    }\n",
       "\n",
       "    .dataframe tbody tr th {\n",
       "        vertical-align: top;\n",
       "    }\n",
       "\n",
       "    .dataframe thead th {\n",
       "        text-align: right;\n",
       "    }\n",
       "</style>\n",
       "<table border=\"1\" class=\"dataframe\">\n",
       "  <thead>\n",
       "    <tr style=\"text-align: right;\">\n",
       "      <th></th>\n",
       "      <th>tconst</th>\n",
       "      <th>primaryTitle</th>\n",
       "      <th>isAdult</th>\n",
       "      <th>runtimeMinutes</th>\n",
       "      <th>genres</th>\n",
       "      <th>averageRating</th>\n",
       "      <th>numVotes</th>\n",
       "      <th>nconst</th>\n",
       "      <th>primaryName</th>\n",
       "      <th>ordering</th>\n",
       "      <th>category</th>\n",
       "    </tr>\n",
       "  </thead>\n",
       "  <tbody>\n",
       "    <tr>\n",
       "      <th>0</th>\n",
       "      <td>tt0000574</td>\n",
       "      <td>The Story of the Kelly Gang</td>\n",
       "      <td>0</td>\n",
       "      <td>70</td>\n",
       "      <td>Action,Adventure,Biography</td>\n",
       "      <td>6.1</td>\n",
       "      <td>625.0</td>\n",
       "      <td>nm0170118</td>\n",
       "      <td>Bella Cola</td>\n",
       "      <td>4.0</td>\n",
       "      <td>actress</td>\n",
       "    </tr>\n",
       "    <tr>\n",
       "      <th>1</th>\n",
       "      <td>tt0000574</td>\n",
       "      <td>The Story of the Kelly Gang</td>\n",
       "      <td>0</td>\n",
       "      <td>70</td>\n",
       "      <td>Action,Adventure,Biography</td>\n",
       "      <td>6.1</td>\n",
       "      <td>625.0</td>\n",
       "      <td>nm0317210</td>\n",
       "      <td>W.A. Gibson</td>\n",
       "      <td>6.0</td>\n",
       "      <td>producer</td>\n",
       "    </tr>\n",
       "    <tr>\n",
       "      <th>2</th>\n",
       "      <td>tt0000574</td>\n",
       "      <td>The Story of the Kelly Gang</td>\n",
       "      <td>0</td>\n",
       "      <td>70</td>\n",
       "      <td>Action,Adventure,Biography</td>\n",
       "      <td>6.1</td>\n",
       "      <td>625.0</td>\n",
       "      <td>nm0425854</td>\n",
       "      <td>Millard Johnson</td>\n",
       "      <td>7.0</td>\n",
       "      <td>producer</td>\n",
       "    </tr>\n",
       "    <tr>\n",
       "      <th>3</th>\n",
       "      <td>tt0000574</td>\n",
       "      <td>The Story of the Kelly Gang</td>\n",
       "      <td>0</td>\n",
       "      <td>70</td>\n",
       "      <td>Action,Adventure,Biography</td>\n",
       "      <td>6.1</td>\n",
       "      <td>625.0</td>\n",
       "      <td>nm0675239</td>\n",
       "      <td>Orrie Perry</td>\n",
       "      <td>10.0</td>\n",
       "      <td>cinematographer</td>\n",
       "    </tr>\n",
       "    <tr>\n",
       "      <th>4</th>\n",
       "      <td>tt0000574</td>\n",
       "      <td>The Story of the Kelly Gang</td>\n",
       "      <td>0</td>\n",
       "      <td>70</td>\n",
       "      <td>Action,Adventure,Biography</td>\n",
       "      <td>6.1</td>\n",
       "      <td>625.0</td>\n",
       "      <td>nm0846879</td>\n",
       "      <td>Charles Tait</td>\n",
       "      <td>5.0</td>\n",
       "      <td>director</td>\n",
       "    </tr>\n",
       "  </tbody>\n",
       "</table>\n",
       "</div>"
      ],
      "text/plain": [
       "      tconst                 primaryTitle  isAdult  runtimeMinutes  \\\n",
       "0  tt0000574  The Story of the Kelly Gang        0              70   \n",
       "1  tt0000574  The Story of the Kelly Gang        0              70   \n",
       "2  tt0000574  The Story of the Kelly Gang        0              70   \n",
       "3  tt0000574  The Story of the Kelly Gang        0              70   \n",
       "4  tt0000574  The Story of the Kelly Gang        0              70   \n",
       "\n",
       "                       genres  averageRating  numVotes     nconst  \\\n",
       "0  Action,Adventure,Biography            6.1     625.0  nm0170118   \n",
       "1  Action,Adventure,Biography            6.1     625.0  nm0317210   \n",
       "2  Action,Adventure,Biography            6.1     625.0  nm0425854   \n",
       "3  Action,Adventure,Biography            6.1     625.0  nm0675239   \n",
       "4  Action,Adventure,Biography            6.1     625.0  nm0846879   \n",
       "\n",
       "       primaryName  ordering         category  \n",
       "0       Bella Cola       4.0          actress  \n",
       "1      W.A. Gibson       6.0         producer  \n",
       "2  Millard Johnson       7.0         producer  \n",
       "3      Orrie Perry      10.0  cinematographer  \n",
       "4     Charles Tait       5.0         director  "
      ]
     },
     "execution_count": 137,
     "metadata": {},
     "output_type": "execute_result"
    }
   ],
   "source": [
    "crew_titles_ratings.head()"
   ]
  },
  {
   "cell_type": "code",
   "execution_count": null,
   "metadata": {
    "hidden": true
   },
   "outputs": [],
   "source": []
  },
  {
   "cell_type": "markdown",
   "metadata": {
    "heading_collapsed": true,
    "hidden": true
   },
   "source": [
    "### G) Save in interim folder and delete cache"
   ]
  },
  {
   "cell_type": "code",
   "execution_count": 138,
   "metadata": {
    "hidden": true
   },
   "outputs": [],
   "source": [
    "crew_titles_ratings.to_csv(\"../data/interim/crew_titles_ratings.csv\", index=False)"
   ]
  },
  {
   "cell_type": "code",
   "execution_count": null,
   "metadata": {
    "hidden": true
   },
   "outputs": [],
   "source": [
    "del crew_titles_ratings"
   ]
  },
  {
   "cell_type": "code",
   "execution_count": null,
   "metadata": {
    "hidden": true
   },
   "outputs": [],
   "source": [
    "del name_basics_title_principals"
   ]
  },
  {
   "cell_type": "markdown",
   "metadata": {},
   "source": [
    "# <a id='4'>4. Feature Engineering </a>"
   ]
  },
  {
   "cell_type": "markdown",
   "metadata": {},
   "source": [
    "### 4.1) Build Crew Avg Summary -> `crew_avg_summary_df.csv`"
   ]
  },
  {
   "cell_type": "code",
   "execution_count": 3,
   "metadata": {},
   "outputs": [],
   "source": [
    "crew_titles_ratings = pd.read_csv(\"../data/interim/crew_titles_ratings.csv\")"
   ]
  },
  {
   "cell_type": "code",
   "execution_count": 4,
   "metadata": {},
   "outputs": [],
   "source": [
    "title_basics_ratings = pd.read_csv(\"../data/interim/title_basics_rating.csv\")"
   ]
  },
  {
   "cell_type": "code",
   "execution_count": 17,
   "metadata": {},
   "outputs": [],
   "source": [
    "def crew_avg_summary(title_id):\n",
    "    '''\n",
    "    Returns a summary of the crew for a given title. The summary excludes the given title from the summary.\n",
    "    \n",
    "    '''\n",
    "    crew_list              = crew_titles_ratings[crew_titles_ratings['tconst'] == title_id]['nconst'].unique()\n",
    "    crew_other_titles      = crew_titles_ratings[(crew_titles_ratings['nconst'].isin(crew_list))]\n",
    "    crew_other_titles      = crew_other_titles[crew_other_titles['tconst'] != title_id]\n",
    "    num_asscociated_titles = len(crew_other_titles['tconst'].unique())\n",
    "    avg = crew_other_titles[['averageRating', 'numVotes']].mean()\n",
    "    \n",
    "    return title_id, num_asscociated_titles, avg['averageRating'], avg['numVotes']\n",
    "    "
   ]
  },
  {
   "cell_type": "code",
   "execution_count": 18,
   "metadata": {},
   "outputs": [
    {
     "data": {
      "text/plain": [
       "('tt0111161', 321, 6.511445783132533, 103147.1686746988)"
      ]
     },
     "execution_count": 18,
     "metadata": {},
     "output_type": "execute_result"
    }
   ],
   "source": [
    "title_id = \"tt0111161\"\n",
    "crew_avg_summary(title_id)"
   ]
  },
  {
   "cell_type": "code",
   "execution_count": 37,
   "metadata": {},
   "outputs": [
    {
     "data": {
      "text/plain": [
       "228607"
      ]
     },
     "execution_count": 37,
     "metadata": {},
     "output_type": "execute_result"
    }
   ],
   "source": [
    "title_ids = crew_titles_ratings['tconst'].unique()\n",
    "len(title_ids)"
   ]
  },
  {
   "cell_type": "code",
   "execution_count": 1,
   "metadata": {
    "scrolled": true
   },
   "outputs": [],
   "source": [
    "crew_avg_summary_list = []\n",
    "count = 1\n",
    "LOG_EVERY_N = 100\n",
    "for title_id in title_ids:\n",
    "    \n",
    "    if (count % LOG_EVERY_N) == 0:\n",
    "        print(count)\n",
    "    title_id, num_asscociated_titles, averageRating, numVotes = crew_avg_summary(title_id)\n",
    "    \n",
    "    crew_avg_summary_list.append((title_id, num_asscociated_titles, averageRating, numVotes))\n",
    "    count +=1\n",
    "\n",
    "crew_avg_summary_df = pd.DataFrame(crew_avg_summary_list, columns = ['tconst','crew_titles_asscociated', 'crew_titles_avgRating', 'crew_titles_avgNumVotes'])\n",
    "crew_avg_summary_df.to_csv(\"../data/interim/crew_avg_summary_df.csv\", index=False)"
   ]
  },
  {
   "cell_type": "code",
   "execution_count": 46,
   "metadata": {},
   "outputs": [
    {
     "data": {
      "text/html": [
       "<div>\n",
       "<style scoped>\n",
       "    .dataframe tbody tr th:only-of-type {\n",
       "        vertical-align: middle;\n",
       "    }\n",
       "\n",
       "    .dataframe tbody tr th {\n",
       "        vertical-align: top;\n",
       "    }\n",
       "\n",
       "    .dataframe thead th {\n",
       "        text-align: right;\n",
       "    }\n",
       "</style>\n",
       "<table border=\"1\" class=\"dataframe\">\n",
       "  <thead>\n",
       "    <tr style=\"text-align: right;\">\n",
       "      <th></th>\n",
       "      <th>tconst</th>\n",
       "      <th>crew_titles_asscociated</th>\n",
       "      <th>crew_titles_avgRating</th>\n",
       "      <th>crew_titles_avgNumVotes</th>\n",
       "    </tr>\n",
       "  </thead>\n",
       "  <tbody>\n",
       "    <tr>\n",
       "      <th>0</th>\n",
       "      <td>tt0000574</td>\n",
       "      <td>1</td>\n",
       "      <td>6.200000</td>\n",
       "      <td>11.000000</td>\n",
       "    </tr>\n",
       "    <tr>\n",
       "      <th>1</th>\n",
       "      <td>tt0000679</td>\n",
       "      <td>22</td>\n",
       "      <td>5.181818</td>\n",
       "      <td>11092.772727</td>\n",
       "    </tr>\n",
       "    <tr>\n",
       "      <th>2</th>\n",
       "      <td>tt0001184</td>\n",
       "      <td>5</td>\n",
       "      <td>6.080000</td>\n",
       "      <td>17.000000</td>\n",
       "    </tr>\n",
       "    <tr>\n",
       "      <th>3</th>\n",
       "      <td>tt0001258</td>\n",
       "      <td>18</td>\n",
       "      <td>5.756522</td>\n",
       "      <td>70.086957</td>\n",
       "    </tr>\n",
       "    <tr>\n",
       "      <th>4</th>\n",
       "      <td>tt0001285</td>\n",
       "      <td>27</td>\n",
       "      <td>6.234483</td>\n",
       "      <td>40.448276</td>\n",
       "    </tr>\n",
       "  </tbody>\n",
       "</table>\n",
       "</div>"
      ],
      "text/plain": [
       "      tconst  crew_titles_asscociated  crew_titles_avgRating  \\\n",
       "0  tt0000574                        1               6.200000   \n",
       "1  tt0000679                       22               5.181818   \n",
       "2  tt0001184                        5               6.080000   \n",
       "3  tt0001258                       18               5.756522   \n",
       "4  tt0001285                       27               6.234483   \n",
       "\n",
       "   crew_titles_avgNumVotes  \n",
       "0                11.000000  \n",
       "1             11092.772727  \n",
       "2                17.000000  \n",
       "3                70.086957  \n",
       "4                40.448276  "
      ]
     },
     "execution_count": 46,
     "metadata": {},
     "output_type": "execute_result"
    }
   ],
   "source": [
    "crew_avg_summary_df.head()"
   ]
  },
  {
   "cell_type": "code",
   "execution_count": 47,
   "metadata": {},
   "outputs": [
    {
     "data": {
      "text/plain": [
       "tconst                        0\n",
       "crew_titles_asscociated       0\n",
       "crew_titles_avgRating      5318\n",
       "crew_titles_avgNumVotes    5318\n",
       "dtype: int64"
      ]
     },
     "execution_count": 47,
     "metadata": {},
     "output_type": "execute_result"
    }
   ],
   "source": [
    "crew_avg_summary_df.isna().sum()"
   ]
  },
  {
   "cell_type": "code",
   "execution_count": 93,
   "metadata": {},
   "outputs": [],
   "source": [
    "# crew = crew_titles_ratings.groupby(['nconst'], as_index=False).agg({\"tconst\"        : \"count\",\n",
    "#                                                                     \"averageRating\" : \"mean\",\n",
    "#                                                                     \"numVotes\"      : \"mean\",\n",
    "#                                                                     \"ordering\"      : \"mean\"}).rename(columns={\"tconst\"       : \"crew_titles_asscociated\",\n",
    "#                                                                                                                \"averageRating\": \"crew_titles_avgRating\",\n",
    "#                                                                                                                \"numVotes\"     : \"crew_titles_avgNumVotes\",\n",
    "#                                                                                                                \"ordering\"     : \"crew_titles_avgOrdering\"})"
   ]
  },
  {
   "cell_type": "markdown",
   "metadata": {
    "heading_collapsed": true
   },
   "source": [
    "### 4.2 Merge Crew Summary with Crew_titles_ratings -> `crew_titles_ratings_summary.csv`"
   ]
  },
  {
   "cell_type": "code",
   "execution_count": 48,
   "metadata": {
    "hidden": true
   },
   "outputs": [
    {
     "data": {
      "text/plain": [
       "(2068791, 11)"
      ]
     },
     "execution_count": 48,
     "metadata": {},
     "output_type": "execute_result"
    }
   ],
   "source": [
    "crew_titles_ratings.shape"
   ]
  },
  {
   "cell_type": "code",
   "execution_count": 49,
   "metadata": {
    "hidden": true
   },
   "outputs": [
    {
     "data": {
      "text/plain": [
       "(228607, 4)"
      ]
     },
     "execution_count": 49,
     "metadata": {},
     "output_type": "execute_result"
    }
   ],
   "source": [
    "crew_avg_summary_df.shape"
   ]
  },
  {
   "cell_type": "code",
   "execution_count": 53,
   "metadata": {
    "hidden": true
   },
   "outputs": [],
   "source": [
    "crew_titles_ratings_summary = pd.merge(crew_titles_ratings, crew_avg_summary_df, on='tconst', how='left')"
   ]
  },
  {
   "cell_type": "code",
   "execution_count": 54,
   "metadata": {
    "hidden": true
   },
   "outputs": [
    {
     "data": {
      "text/html": [
       "<div>\n",
       "<style scoped>\n",
       "    .dataframe tbody tr th:only-of-type {\n",
       "        vertical-align: middle;\n",
       "    }\n",
       "\n",
       "    .dataframe tbody tr th {\n",
       "        vertical-align: top;\n",
       "    }\n",
       "\n",
       "    .dataframe thead th {\n",
       "        text-align: right;\n",
       "    }\n",
       "</style>\n",
       "<table border=\"1\" class=\"dataframe\">\n",
       "  <thead>\n",
       "    <tr style=\"text-align: right;\">\n",
       "      <th></th>\n",
       "      <th>tconst</th>\n",
       "      <th>primaryTitle</th>\n",
       "      <th>isAdult</th>\n",
       "      <th>runtimeMinutes</th>\n",
       "      <th>genres</th>\n",
       "      <th>averageRating</th>\n",
       "      <th>numVotes</th>\n",
       "      <th>nconst</th>\n",
       "      <th>primaryName</th>\n",
       "      <th>ordering</th>\n",
       "      <th>category</th>\n",
       "      <th>crew_titles_asscociated</th>\n",
       "      <th>crew_titles_avgRating</th>\n",
       "      <th>crew_titles_avgNumVotes</th>\n",
       "    </tr>\n",
       "  </thead>\n",
       "  <tbody>\n",
       "    <tr>\n",
       "      <th>0</th>\n",
       "      <td>tt0000574</td>\n",
       "      <td>The Story of the Kelly Gang</td>\n",
       "      <td>0</td>\n",
       "      <td>70</td>\n",
       "      <td>Action,Adventure,Biography</td>\n",
       "      <td>6.1</td>\n",
       "      <td>625.0</td>\n",
       "      <td>nm0170118</td>\n",
       "      <td>Bella Cola</td>\n",
       "      <td>4.0</td>\n",
       "      <td>actress</td>\n",
       "      <td>1</td>\n",
       "      <td>6.2</td>\n",
       "      <td>11.0</td>\n",
       "    </tr>\n",
       "    <tr>\n",
       "      <th>1</th>\n",
       "      <td>tt0000574</td>\n",
       "      <td>The Story of the Kelly Gang</td>\n",
       "      <td>0</td>\n",
       "      <td>70</td>\n",
       "      <td>Action,Adventure,Biography</td>\n",
       "      <td>6.1</td>\n",
       "      <td>625.0</td>\n",
       "      <td>nm0317210</td>\n",
       "      <td>W.A. Gibson</td>\n",
       "      <td>6.0</td>\n",
       "      <td>producer</td>\n",
       "      <td>1</td>\n",
       "      <td>6.2</td>\n",
       "      <td>11.0</td>\n",
       "    </tr>\n",
       "  </tbody>\n",
       "</table>\n",
       "</div>"
      ],
      "text/plain": [
       "      tconst                 primaryTitle  isAdult  runtimeMinutes  \\\n",
       "0  tt0000574  The Story of the Kelly Gang        0              70   \n",
       "1  tt0000574  The Story of the Kelly Gang        0              70   \n",
       "\n",
       "                       genres  averageRating  numVotes     nconst  \\\n",
       "0  Action,Adventure,Biography            6.1     625.0  nm0170118   \n",
       "1  Action,Adventure,Biography            6.1     625.0  nm0317210   \n",
       "\n",
       "   primaryName  ordering  category  crew_titles_asscociated  \\\n",
       "0   Bella Cola       4.0   actress                        1   \n",
       "1  W.A. Gibson       6.0  producer                        1   \n",
       "\n",
       "   crew_titles_avgRating  crew_titles_avgNumVotes  \n",
       "0                    6.2                     11.0  \n",
       "1                    6.2                     11.0  "
      ]
     },
     "execution_count": 54,
     "metadata": {},
     "output_type": "execute_result"
    }
   ],
   "source": [
    "crew_titles_ratings_summary.head(2)"
   ]
  },
  {
   "cell_type": "code",
   "execution_count": 55,
   "metadata": {
    "hidden": true
   },
   "outputs": [
    {
     "data": {
      "text/plain": [
       "(2068791, 14)"
      ]
     },
     "execution_count": 55,
     "metadata": {},
     "output_type": "execute_result"
    }
   ],
   "source": [
    "crew_titles_ratings_summary.shape"
   ]
  },
  {
   "cell_type": "code",
   "execution_count": 57,
   "metadata": {
    "hidden": true
   },
   "outputs": [
    {
     "data": {
      "text/plain": [
       "tconst                         0\n",
       "primaryTitle                   0\n",
       "isAdult                        0\n",
       "runtimeMinutes                 0\n",
       "genres                         0\n",
       "averageRating                  0\n",
       "numVotes                       0\n",
       "nconst                         0\n",
       "primaryName                    0\n",
       "ordering                       0\n",
       "category                       0\n",
       "crew_titles_asscociated        0\n",
       "crew_titles_avgRating      30939\n",
       "crew_titles_avgNumVotes    30939\n",
       "dtype: int64"
      ]
     },
     "execution_count": 57,
     "metadata": {},
     "output_type": "execute_result"
    }
   ],
   "source": [
    "crew_titles_ratings_summary.isna().sum()"
   ]
  },
  {
   "cell_type": "code",
   "execution_count": 59,
   "metadata": {
    "hidden": true
   },
   "outputs": [
    {
     "data": {
      "text/html": [
       "<div>\n",
       "<style scoped>\n",
       "    .dataframe tbody tr th:only-of-type {\n",
       "        vertical-align: middle;\n",
       "    }\n",
       "\n",
       "    .dataframe tbody tr th {\n",
       "        vertical-align: top;\n",
       "    }\n",
       "\n",
       "    .dataframe thead th {\n",
       "        text-align: right;\n",
       "    }\n",
       "</style>\n",
       "<table border=\"1\" class=\"dataframe\">\n",
       "  <thead>\n",
       "    <tr style=\"text-align: right;\">\n",
       "      <th></th>\n",
       "      <th>tconst</th>\n",
       "      <th>primaryTitle</th>\n",
       "      <th>isAdult</th>\n",
       "      <th>runtimeMinutes</th>\n",
       "      <th>genres</th>\n",
       "      <th>averageRating</th>\n",
       "      <th>numVotes</th>\n",
       "      <th>nconst</th>\n",
       "      <th>primaryName</th>\n",
       "      <th>ordering</th>\n",
       "      <th>category</th>\n",
       "      <th>crew_titles_asscociated</th>\n",
       "      <th>crew_titles_avgRating</th>\n",
       "      <th>crew_titles_avgNumVotes</th>\n",
       "    </tr>\n",
       "  </thead>\n",
       "  <tbody>\n",
       "    <tr>\n",
       "      <th>52855</th>\n",
       "      <td>tt0025164</td>\n",
       "      <td>The Gay Divorcee</td>\n",
       "      <td>0</td>\n",
       "      <td>107</td>\n",
       "      <td>Comedy,Musical,Romance</td>\n",
       "      <td>7.5</td>\n",
       "      <td>7098.0</td>\n",
       "      <td>nm0000001</td>\n",
       "      <td>Fred Astaire</td>\n",
       "      <td>1.0</td>\n",
       "      <td>actor</td>\n",
       "      <td>382</td>\n",
       "      <td>6.470073</td>\n",
       "      <td>1618.856448</td>\n",
       "    </tr>\n",
       "    <tr>\n",
       "      <th>52856</th>\n",
       "      <td>tt0025164</td>\n",
       "      <td>The Gay Divorcee</td>\n",
       "      <td>0</td>\n",
       "      <td>107</td>\n",
       "      <td>Comedy,Musical,Romance</td>\n",
       "      <td>7.5</td>\n",
       "      <td>7098.0</td>\n",
       "      <td>nm0001677</td>\n",
       "      <td>Ginger Rogers</td>\n",
       "      <td>2.0</td>\n",
       "      <td>actress</td>\n",
       "      <td>382</td>\n",
       "      <td>6.470073</td>\n",
       "      <td>1618.856448</td>\n",
       "    </tr>\n",
       "    <tr>\n",
       "      <th>52857</th>\n",
       "      <td>tt0025164</td>\n",
       "      <td>The Gay Divorcee</td>\n",
       "      <td>0</td>\n",
       "      <td>107</td>\n",
       "      <td>Comedy,Musical,Romance</td>\n",
       "      <td>7.5</td>\n",
       "      <td>7098.0</td>\n",
       "      <td>nm0002143</td>\n",
       "      <td>Edward Everett Horton</td>\n",
       "      <td>4.0</td>\n",
       "      <td>actor</td>\n",
       "      <td>382</td>\n",
       "      <td>6.470073</td>\n",
       "      <td>1618.856448</td>\n",
       "    </tr>\n",
       "    <tr>\n",
       "      <th>52858</th>\n",
       "      <td>tt0025164</td>\n",
       "      <td>The Gay Divorcee</td>\n",
       "      <td>0</td>\n",
       "      <td>107</td>\n",
       "      <td>Comedy,Musical,Romance</td>\n",
       "      <td>7.5</td>\n",
       "      <td>7098.0</td>\n",
       "      <td>nm0103567</td>\n",
       "      <td>Alice Brady</td>\n",
       "      <td>3.0</td>\n",
       "      <td>actress</td>\n",
       "      <td>382</td>\n",
       "      <td>6.470073</td>\n",
       "      <td>1618.856448</td>\n",
       "    </tr>\n",
       "    <tr>\n",
       "      <th>52859</th>\n",
       "      <td>tt0025164</td>\n",
       "      <td>The Gay Divorcee</td>\n",
       "      <td>0</td>\n",
       "      <td>107</td>\n",
       "      <td>Comedy,Musical,Romance</td>\n",
       "      <td>7.5</td>\n",
       "      <td>7098.0</td>\n",
       "      <td>nm0388755</td>\n",
       "      <td>Samuel Hoffenstein</td>\n",
       "      <td>8.0</td>\n",
       "      <td>writer</td>\n",
       "      <td>382</td>\n",
       "      <td>6.470073</td>\n",
       "      <td>1618.856448</td>\n",
       "    </tr>\n",
       "  </tbody>\n",
       "</table>\n",
       "</div>"
      ],
      "text/plain": [
       "          tconst      primaryTitle  isAdult  runtimeMinutes  \\\n",
       "52855  tt0025164  The Gay Divorcee        0             107   \n",
       "52856  tt0025164  The Gay Divorcee        0             107   \n",
       "52857  tt0025164  The Gay Divorcee        0             107   \n",
       "52858  tt0025164  The Gay Divorcee        0             107   \n",
       "52859  tt0025164  The Gay Divorcee        0             107   \n",
       "\n",
       "                       genres  averageRating  numVotes     nconst  \\\n",
       "52855  Comedy,Musical,Romance            7.5    7098.0  nm0000001   \n",
       "52856  Comedy,Musical,Romance            7.5    7098.0  nm0001677   \n",
       "52857  Comedy,Musical,Romance            7.5    7098.0  nm0002143   \n",
       "52858  Comedy,Musical,Romance            7.5    7098.0  nm0103567   \n",
       "52859  Comedy,Musical,Romance            7.5    7098.0  nm0388755   \n",
       "\n",
       "                 primaryName  ordering category  crew_titles_asscociated  \\\n",
       "52855           Fred Astaire       1.0    actor                      382   \n",
       "52856          Ginger Rogers       2.0  actress                      382   \n",
       "52857  Edward Everett Horton       4.0    actor                      382   \n",
       "52858            Alice Brady       3.0  actress                      382   \n",
       "52859     Samuel Hoffenstein       8.0   writer                      382   \n",
       "\n",
       "       crew_titles_avgRating  crew_titles_avgNumVotes  \n",
       "52855               6.470073              1618.856448  \n",
       "52856               6.470073              1618.856448  \n",
       "52857               6.470073              1618.856448  \n",
       "52858               6.470073              1618.856448  \n",
       "52859               6.470073              1618.856448  "
      ]
     },
     "execution_count": 59,
     "metadata": {},
     "output_type": "execute_result"
    }
   ],
   "source": [
    "crew_titles_ratings_summary[crew_titles_ratings_summary['tconst'] == 'tt0025164'].head()"
   ]
  },
  {
   "cell_type": "code",
   "execution_count": 60,
   "metadata": {
    "hidden": true
   },
   "outputs": [],
   "source": [
    "crew_titles_ratings_summary = crew_titles_ratings_summary[crew_titles_ratings_summary['category'] != 'self']"
   ]
  },
  {
   "cell_type": "code",
   "execution_count": 111,
   "metadata": {
    "hidden": true
   },
   "outputs": [
    {
     "data": {
      "text/plain": [
       "actor                  535215\n",
       "actress                322945\n",
       "writer                 245900\n",
       "director               238958\n",
       "producer               202891\n",
       "composer               164386\n",
       "cinematographer        159527\n",
       "editor                 101237\n",
       "production_designer     22781\n",
       "archive_footage          7324\n",
       "archive_sound              33\n",
       "Name: category, dtype: int64"
      ]
     },
     "execution_count": 111,
     "metadata": {},
     "output_type": "execute_result"
    }
   ],
   "source": [
    "crew_titles_ratings_summary['category'].value_counts()"
   ]
  },
  {
   "cell_type": "code",
   "execution_count": 62,
   "metadata": {
    "hidden": true
   },
   "outputs": [
    {
     "data": {
      "text/plain": [
       "tconst                         0\n",
       "primaryTitle                   0\n",
       "isAdult                        0\n",
       "runtimeMinutes                 0\n",
       "genres                         0\n",
       "averageRating                  0\n",
       "numVotes                       0\n",
       "nconst                         0\n",
       "primaryName                    0\n",
       "ordering                       0\n",
       "category                       0\n",
       "crew_titles_asscociated        0\n",
       "crew_titles_avgRating      27656\n",
       "crew_titles_avgNumVotes    27656\n",
       "dtype: int64"
      ]
     },
     "execution_count": 62,
     "metadata": {},
     "output_type": "execute_result"
    }
   ],
   "source": [
    "crew_titles_ratings_summary.isna().sum()"
   ]
  },
  {
   "cell_type": "code",
   "execution_count": 63,
   "metadata": {
    "hidden": true
   },
   "outputs": [],
   "source": [
    "crew_titles_ratings_summary = crew_titles_ratings_summary.dropna()"
   ]
  },
  {
   "cell_type": "code",
   "execution_count": 66,
   "metadata": {
    "hidden": true
   },
   "outputs": [],
   "source": [
    "crew_titles_ratings_summary.to_csv(\"../data/interim/crew_titles_ratings_summary.csv\", index=False)"
   ]
  },
  {
   "cell_type": "code",
   "execution_count": 79,
   "metadata": {
    "hidden": true
   },
   "outputs": [
    {
     "data": {
      "text/html": [
       "<div>\n",
       "<style scoped>\n",
       "    .dataframe tbody tr th:only-of-type {\n",
       "        vertical-align: middle;\n",
       "    }\n",
       "\n",
       "    .dataframe tbody tr th {\n",
       "        vertical-align: top;\n",
       "    }\n",
       "\n",
       "    .dataframe thead th {\n",
       "        text-align: right;\n",
       "    }\n",
       "</style>\n",
       "<table border=\"1\" class=\"dataframe\">\n",
       "  <thead>\n",
       "    <tr style=\"text-align: right;\">\n",
       "      <th></th>\n",
       "      <th>tconst</th>\n",
       "      <th>primaryTitle</th>\n",
       "      <th>isAdult</th>\n",
       "      <th>runtimeMinutes</th>\n",
       "      <th>genres</th>\n",
       "      <th>averageRating</th>\n",
       "      <th>numVotes</th>\n",
       "      <th>nconst</th>\n",
       "      <th>primaryName</th>\n",
       "      <th>ordering</th>\n",
       "      <th>category</th>\n",
       "      <th>crew_titles_asscociated</th>\n",
       "      <th>crew_titles_avgRating</th>\n",
       "      <th>crew_titles_avgNumVotes</th>\n",
       "    </tr>\n",
       "  </thead>\n",
       "  <tbody>\n",
       "    <tr>\n",
       "      <th>0</th>\n",
       "      <td>tt0000574</td>\n",
       "      <td>The Story of the Kelly Gang</td>\n",
       "      <td>0</td>\n",
       "      <td>70</td>\n",
       "      <td>Action,Adventure,Biography</td>\n",
       "      <td>6.1</td>\n",
       "      <td>625.0</td>\n",
       "      <td>nm0170118</td>\n",
       "      <td>Bella Cola</td>\n",
       "      <td>4.0</td>\n",
       "      <td>actress</td>\n",
       "      <td>1</td>\n",
       "      <td>6.2</td>\n",
       "      <td>11.0</td>\n",
       "    </tr>\n",
       "    <tr>\n",
       "      <th>1</th>\n",
       "      <td>tt0000574</td>\n",
       "      <td>The Story of the Kelly Gang</td>\n",
       "      <td>0</td>\n",
       "      <td>70</td>\n",
       "      <td>Action,Adventure,Biography</td>\n",
       "      <td>6.1</td>\n",
       "      <td>625.0</td>\n",
       "      <td>nm0317210</td>\n",
       "      <td>W.A. Gibson</td>\n",
       "      <td>6.0</td>\n",
       "      <td>producer</td>\n",
       "      <td>1</td>\n",
       "      <td>6.2</td>\n",
       "      <td>11.0</td>\n",
       "    </tr>\n",
       "    <tr>\n",
       "      <th>2</th>\n",
       "      <td>tt0000574</td>\n",
       "      <td>The Story of the Kelly Gang</td>\n",
       "      <td>0</td>\n",
       "      <td>70</td>\n",
       "      <td>Action,Adventure,Biography</td>\n",
       "      <td>6.1</td>\n",
       "      <td>625.0</td>\n",
       "      <td>nm0425854</td>\n",
       "      <td>Millard Johnson</td>\n",
       "      <td>7.0</td>\n",
       "      <td>producer</td>\n",
       "      <td>1</td>\n",
       "      <td>6.2</td>\n",
       "      <td>11.0</td>\n",
       "    </tr>\n",
       "    <tr>\n",
       "      <th>3</th>\n",
       "      <td>tt0000574</td>\n",
       "      <td>The Story of the Kelly Gang</td>\n",
       "      <td>0</td>\n",
       "      <td>70</td>\n",
       "      <td>Action,Adventure,Biography</td>\n",
       "      <td>6.1</td>\n",
       "      <td>625.0</td>\n",
       "      <td>nm0675239</td>\n",
       "      <td>Orrie Perry</td>\n",
       "      <td>10.0</td>\n",
       "      <td>cinematographer</td>\n",
       "      <td>1</td>\n",
       "      <td>6.2</td>\n",
       "      <td>11.0</td>\n",
       "    </tr>\n",
       "    <tr>\n",
       "      <th>4</th>\n",
       "      <td>tt0000574</td>\n",
       "      <td>The Story of the Kelly Gang</td>\n",
       "      <td>0</td>\n",
       "      <td>70</td>\n",
       "      <td>Action,Adventure,Biography</td>\n",
       "      <td>6.1</td>\n",
       "      <td>625.0</td>\n",
       "      <td>nm0846879</td>\n",
       "      <td>Charles Tait</td>\n",
       "      <td>5.0</td>\n",
       "      <td>director</td>\n",
       "      <td>1</td>\n",
       "      <td>6.2</td>\n",
       "      <td>11.0</td>\n",
       "    </tr>\n",
       "  </tbody>\n",
       "</table>\n",
       "</div>"
      ],
      "text/plain": [
       "      tconst                 primaryTitle  isAdult  runtimeMinutes  \\\n",
       "0  tt0000574  The Story of the Kelly Gang        0              70   \n",
       "1  tt0000574  The Story of the Kelly Gang        0              70   \n",
       "2  tt0000574  The Story of the Kelly Gang        0              70   \n",
       "3  tt0000574  The Story of the Kelly Gang        0              70   \n",
       "4  tt0000574  The Story of the Kelly Gang        0              70   \n",
       "\n",
       "                       genres  averageRating  numVotes     nconst  \\\n",
       "0  Action,Adventure,Biography            6.1     625.0  nm0170118   \n",
       "1  Action,Adventure,Biography            6.1     625.0  nm0317210   \n",
       "2  Action,Adventure,Biography            6.1     625.0  nm0425854   \n",
       "3  Action,Adventure,Biography            6.1     625.0  nm0675239   \n",
       "4  Action,Adventure,Biography            6.1     625.0  nm0846879   \n",
       "\n",
       "       primaryName  ordering         category  crew_titles_asscociated  \\\n",
       "0       Bella Cola       4.0          actress                        1   \n",
       "1      W.A. Gibson       6.0         producer                        1   \n",
       "2  Millard Johnson       7.0         producer                        1   \n",
       "3      Orrie Perry      10.0  cinematographer                        1   \n",
       "4     Charles Tait       5.0         director                        1   \n",
       "\n",
       "   crew_titles_avgRating  crew_titles_avgNumVotes  \n",
       "0                    6.2                     11.0  \n",
       "1                    6.2                     11.0  \n",
       "2                    6.2                     11.0  \n",
       "3                    6.2                     11.0  \n",
       "4                    6.2                     11.0  "
      ]
     },
     "execution_count": 79,
     "metadata": {},
     "output_type": "execute_result"
    }
   ],
   "source": [
    "crew_titles_ratings_summary.head()"
   ]
  },
  {
   "cell_type": "code",
   "execution_count": 137,
   "metadata": {
    "hidden": true
   },
   "outputs": [
    {
     "data": {
      "text/plain": [
       "(2001197, 15)"
      ]
     },
     "execution_count": 137,
     "metadata": {},
     "output_type": "execute_result"
    }
   ],
   "source": [
    "crew_titles_ratings_summary.shape"
   ]
  },
  {
   "cell_type": "code",
   "execution_count": 138,
   "metadata": {
    "hidden": true
   },
   "outputs": [
    {
     "data": {
      "text/plain": [
       "228302"
      ]
     },
     "execution_count": 138,
     "metadata": {},
     "output_type": "execute_result"
    }
   ],
   "source": [
    "len(crew_titles_ratings_summary['tconst'].unique())"
   ]
  },
  {
   "cell_type": "code",
   "execution_count": 139,
   "metadata": {
    "hidden": true
   },
   "outputs": [
    {
     "data": {
      "text/html": [
       "<div>\n",
       "<style scoped>\n",
       "    .dataframe tbody tr th:only-of-type {\n",
       "        vertical-align: middle;\n",
       "    }\n",
       "\n",
       "    .dataframe tbody tr th {\n",
       "        vertical-align: top;\n",
       "    }\n",
       "\n",
       "    .dataframe thead th {\n",
       "        text-align: right;\n",
       "    }\n",
       "</style>\n",
       "<table border=\"1\" class=\"dataframe\">\n",
       "  <thead>\n",
       "    <tr style=\"text-align: right;\">\n",
       "      <th></th>\n",
       "      <th>tconst</th>\n",
       "      <th>primaryTitle</th>\n",
       "      <th>isAdult</th>\n",
       "      <th>runtimeMinutes</th>\n",
       "      <th>genres</th>\n",
       "      <th>averageRating</th>\n",
       "      <th>numVotes</th>\n",
       "      <th>nconst</th>\n",
       "      <th>primaryName</th>\n",
       "      <th>ordering</th>\n",
       "      <th>category</th>\n",
       "      <th>crew_titles_asscociated</th>\n",
       "      <th>crew_titles_avgRating</th>\n",
       "      <th>crew_titles_avgNumVotes</th>\n",
       "      <th>crew_titles_avgOrdering</th>\n",
       "    </tr>\n",
       "  </thead>\n",
       "  <tbody>\n",
       "    <tr>\n",
       "      <th>0</th>\n",
       "      <td>tt0000574</td>\n",
       "      <td>The Story of the Kelly Gang</td>\n",
       "      <td>0</td>\n",
       "      <td>70</td>\n",
       "      <td>Action,Adventure,Biography</td>\n",
       "      <td>6.1</td>\n",
       "      <td>625.0</td>\n",
       "      <td>nm0170118</td>\n",
       "      <td>Bella Cola</td>\n",
       "      <td>4.0</td>\n",
       "      <td>actress</td>\n",
       "      <td>1</td>\n",
       "      <td>6.1</td>\n",
       "      <td>625.0</td>\n",
       "      <td>4.0</td>\n",
       "    </tr>\n",
       "  </tbody>\n",
       "</table>\n",
       "</div>"
      ],
      "text/plain": [
       "      tconst                 primaryTitle  isAdult  runtimeMinutes  \\\n",
       "0  tt0000574  The Story of the Kelly Gang        0              70   \n",
       "\n",
       "                       genres  averageRating  numVotes     nconst primaryName  \\\n",
       "0  Action,Adventure,Biography            6.1     625.0  nm0170118  Bella Cola   \n",
       "\n",
       "   ordering category  crew_titles_asscociated  crew_titles_avgRating  \\\n",
       "0       4.0  actress                        1                    6.1   \n",
       "\n",
       "   crew_titles_avgNumVotes  crew_titles_avgOrdering  \n",
       "0                    625.0                      4.0  "
      ]
     },
     "execution_count": 139,
     "metadata": {},
     "output_type": "execute_result"
    }
   ],
   "source": [
    "crew_titles_ratings_summary.head(1)"
   ]
  },
  {
   "cell_type": "markdown",
   "metadata": {
    "heading_collapsed": true
   },
   "source": [
    "### 4.3 Build Title Summary -> `title_summary.csv`"
   ]
  },
  {
   "cell_type": "code",
   "execution_count": 81,
   "metadata": {
    "hidden": true
   },
   "outputs": [],
   "source": [
    "title_summary= crew_titles_ratings_summary.groupby(['tconst'], as_index=False).agg({\n",
    "                                                                           \"crew_titles_asscociated\"   : \"mean\",\n",
    "                                                                           \"crew_titles_avgRating\"     : \"mean\",\n",
    "                                                                           \"crew_titles_avgNumVotes\"   : \"mean\"})"
   ]
  },
  {
   "cell_type": "code",
   "execution_count": 96,
   "metadata": {
    "hidden": true
   },
   "outputs": [
    {
     "data": {
      "text/html": [
       "<div>\n",
       "<style scoped>\n",
       "    .dataframe tbody tr th:only-of-type {\n",
       "        vertical-align: middle;\n",
       "    }\n",
       "\n",
       "    .dataframe tbody tr th {\n",
       "        vertical-align: top;\n",
       "    }\n",
       "\n",
       "    .dataframe thead th {\n",
       "        text-align: right;\n",
       "    }\n",
       "</style>\n",
       "<table border=\"1\" class=\"dataframe\">\n",
       "  <thead>\n",
       "    <tr style=\"text-align: right;\">\n",
       "      <th></th>\n",
       "      <th>tconst</th>\n",
       "      <th>crew_titles_asscociated</th>\n",
       "      <th>crew_titles_avgRating</th>\n",
       "      <th>crew_titles_avgNumVotes</th>\n",
       "    </tr>\n",
       "  </thead>\n",
       "  <tbody>\n",
       "    <tr>\n",
       "      <th>0</th>\n",
       "      <td>tt0000574</td>\n",
       "      <td>1</td>\n",
       "      <td>6.200000</td>\n",
       "      <td>11.000000</td>\n",
       "    </tr>\n",
       "    <tr>\n",
       "      <th>1</th>\n",
       "      <td>tt0000679</td>\n",
       "      <td>22</td>\n",
       "      <td>5.181818</td>\n",
       "      <td>11092.772727</td>\n",
       "    </tr>\n",
       "    <tr>\n",
       "      <th>2</th>\n",
       "      <td>tt0001184</td>\n",
       "      <td>5</td>\n",
       "      <td>6.080000</td>\n",
       "      <td>17.000000</td>\n",
       "    </tr>\n",
       "    <tr>\n",
       "      <th>3</th>\n",
       "      <td>tt0001258</td>\n",
       "      <td>18</td>\n",
       "      <td>5.756522</td>\n",
       "      <td>70.086957</td>\n",
       "    </tr>\n",
       "    <tr>\n",
       "      <th>4</th>\n",
       "      <td>tt0001285</td>\n",
       "      <td>27</td>\n",
       "      <td>6.234483</td>\n",
       "      <td>40.448276</td>\n",
       "    </tr>\n",
       "  </tbody>\n",
       "</table>\n",
       "</div>"
      ],
      "text/plain": [
       "      tconst  crew_titles_asscociated  crew_titles_avgRating  \\\n",
       "0  tt0000574                        1               6.200000   \n",
       "1  tt0000679                       22               5.181818   \n",
       "2  tt0001184                        5               6.080000   \n",
       "3  tt0001258                       18               5.756522   \n",
       "4  tt0001285                       27               6.234483   \n",
       "\n",
       "   crew_titles_avgNumVotes  \n",
       "0                11.000000  \n",
       "1             11092.772727  \n",
       "2                17.000000  \n",
       "3                70.086957  \n",
       "4                40.448276  "
      ]
     },
     "execution_count": 96,
     "metadata": {},
     "output_type": "execute_result"
    }
   ],
   "source": [
    "title_summary.head()"
   ]
  },
  {
   "cell_type": "code",
   "execution_count": 83,
   "metadata": {
    "hidden": true
   },
   "outputs": [
    {
     "data": {
      "text/plain": [
       "11.0"
      ]
     },
     "execution_count": 83,
     "metadata": {},
     "output_type": "execute_result"
    }
   ],
   "source": [
    "crew_titles_ratings_summary[crew_titles_ratings_summary['tconst'] == 'tt0000574']['crew_titles_avgNumVotes'].mean()"
   ]
  },
  {
   "cell_type": "code",
   "execution_count": 84,
   "metadata": {
    "hidden": true
   },
   "outputs": [],
   "source": [
    "title_summary.to_csv(\"../data/interim/title_summary.csv\", index=False)"
   ]
  },
  {
   "cell_type": "markdown",
   "metadata": {
    "heading_collapsed": true
   },
   "source": [
    "### 4.4 Build Final DataFrame -> `movie_df_final.csv`"
   ]
  },
  {
   "cell_type": "code",
   "execution_count": 85,
   "metadata": {
    "hidden": true
   },
   "outputs": [],
   "source": [
    "title_basics_ratings = pd.read_csv(\"../data/interim/title_basics_rating.csv\")"
   ]
  },
  {
   "cell_type": "code",
   "execution_count": 153,
   "metadata": {
    "hidden": true
   },
   "outputs": [],
   "source": [
    "title_summary        = pd.read_csv(\"../data/interim/title_summary.csv\")"
   ]
  },
  {
   "cell_type": "code",
   "execution_count": 86,
   "metadata": {
    "hidden": true
   },
   "outputs": [
    {
     "data": {
      "text/html": [
       "<div>\n",
       "<style scoped>\n",
       "    .dataframe tbody tr th:only-of-type {\n",
       "        vertical-align: middle;\n",
       "    }\n",
       "\n",
       "    .dataframe tbody tr th {\n",
       "        vertical-align: top;\n",
       "    }\n",
       "\n",
       "    .dataframe thead th {\n",
       "        text-align: right;\n",
       "    }\n",
       "</style>\n",
       "<table border=\"1\" class=\"dataframe\">\n",
       "  <thead>\n",
       "    <tr style=\"text-align: right;\">\n",
       "      <th></th>\n",
       "      <th>tconst</th>\n",
       "      <th>primaryTitle</th>\n",
       "      <th>isAdult</th>\n",
       "      <th>runtimeMinutes</th>\n",
       "      <th>genres</th>\n",
       "      <th>averageRating</th>\n",
       "      <th>numVotes</th>\n",
       "    </tr>\n",
       "  </thead>\n",
       "  <tbody>\n",
       "    <tr>\n",
       "      <th>0</th>\n",
       "      <td>tt0000574</td>\n",
       "      <td>The Story of the Kelly Gang</td>\n",
       "      <td>0</td>\n",
       "      <td>70</td>\n",
       "      <td>Action,Adventure,Biography</td>\n",
       "      <td>6.1</td>\n",
       "      <td>625.0</td>\n",
       "    </tr>\n",
       "    <tr>\n",
       "      <th>1</th>\n",
       "      <td>tt0000679</td>\n",
       "      <td>The Fairylogue and Radio-Plays</td>\n",
       "      <td>0</td>\n",
       "      <td>120</td>\n",
       "      <td>Adventure,Fantasy</td>\n",
       "      <td>5.2</td>\n",
       "      <td>35.0</td>\n",
       "    </tr>\n",
       "    <tr>\n",
       "      <th>2</th>\n",
       "      <td>tt0001184</td>\n",
       "      <td>Don Juan de Serrallonga</td>\n",
       "      <td>0</td>\n",
       "      <td>58</td>\n",
       "      <td>Adventure,Drama</td>\n",
       "      <td>3.4</td>\n",
       "      <td>11.0</td>\n",
       "    </tr>\n",
       "    <tr>\n",
       "      <th>3</th>\n",
       "      <td>tt0001258</td>\n",
       "      <td>The White Slave Trade</td>\n",
       "      <td>0</td>\n",
       "      <td>45</td>\n",
       "      <td>Drama</td>\n",
       "      <td>5.7</td>\n",
       "      <td>101.0</td>\n",
       "    </tr>\n",
       "    <tr>\n",
       "      <th>4</th>\n",
       "      <td>tt0001285</td>\n",
       "      <td>The Life of Moses</td>\n",
       "      <td>0</td>\n",
       "      <td>50</td>\n",
       "      <td>Biography,Drama,Family</td>\n",
       "      <td>5.4</td>\n",
       "      <td>29.0</td>\n",
       "    </tr>\n",
       "  </tbody>\n",
       "</table>\n",
       "</div>"
      ],
      "text/plain": [
       "      tconst                    primaryTitle  isAdult  runtimeMinutes  \\\n",
       "0  tt0000574     The Story of the Kelly Gang        0              70   \n",
       "1  tt0000679  The Fairylogue and Radio-Plays        0             120   \n",
       "2  tt0001184         Don Juan de Serrallonga        0              58   \n",
       "3  tt0001258           The White Slave Trade        0              45   \n",
       "4  tt0001285               The Life of Moses        0              50   \n",
       "\n",
       "                       genres  averageRating  numVotes  \n",
       "0  Action,Adventure,Biography            6.1     625.0  \n",
       "1           Adventure,Fantasy            5.2      35.0  \n",
       "2             Adventure,Drama            3.4      11.0  \n",
       "3                       Drama            5.7     101.0  \n",
       "4      Biography,Drama,Family            5.4      29.0  "
      ]
     },
     "execution_count": 86,
     "metadata": {},
     "output_type": "execute_result"
    }
   ],
   "source": [
    "title_basics_ratings.head()"
   ]
  },
  {
   "cell_type": "code",
   "execution_count": 97,
   "metadata": {
    "hidden": true
   },
   "outputs": [
    {
     "data": {
      "text/plain": [
       "(228790, 7)"
      ]
     },
     "execution_count": 97,
     "metadata": {},
     "output_type": "execute_result"
    }
   ],
   "source": [
    "title_basics_ratings.shape"
   ]
  },
  {
   "cell_type": "code",
   "execution_count": 88,
   "metadata": {
    "hidden": true
   },
   "outputs": [
    {
     "data": {
      "text/html": [
       "<div>\n",
       "<style scoped>\n",
       "    .dataframe tbody tr th:only-of-type {\n",
       "        vertical-align: middle;\n",
       "    }\n",
       "\n",
       "    .dataframe tbody tr th {\n",
       "        vertical-align: top;\n",
       "    }\n",
       "\n",
       "    .dataframe thead th {\n",
       "        text-align: right;\n",
       "    }\n",
       "</style>\n",
       "<table border=\"1\" class=\"dataframe\">\n",
       "  <thead>\n",
       "    <tr style=\"text-align: right;\">\n",
       "      <th></th>\n",
       "      <th>tconst</th>\n",
       "      <th>crew_titles_asscociated</th>\n",
       "      <th>crew_titles_avgRating</th>\n",
       "      <th>crew_titles_avgNumVotes</th>\n",
       "    </tr>\n",
       "  </thead>\n",
       "  <tbody>\n",
       "    <tr>\n",
       "      <th>0</th>\n",
       "      <td>tt0000574</td>\n",
       "      <td>1</td>\n",
       "      <td>6.200000</td>\n",
       "      <td>11.000000</td>\n",
       "    </tr>\n",
       "    <tr>\n",
       "      <th>1</th>\n",
       "      <td>tt0000679</td>\n",
       "      <td>22</td>\n",
       "      <td>5.181818</td>\n",
       "      <td>11092.772727</td>\n",
       "    </tr>\n",
       "    <tr>\n",
       "      <th>2</th>\n",
       "      <td>tt0001184</td>\n",
       "      <td>5</td>\n",
       "      <td>6.080000</td>\n",
       "      <td>17.000000</td>\n",
       "    </tr>\n",
       "    <tr>\n",
       "      <th>3</th>\n",
       "      <td>tt0001258</td>\n",
       "      <td>18</td>\n",
       "      <td>5.756522</td>\n",
       "      <td>70.086957</td>\n",
       "    </tr>\n",
       "    <tr>\n",
       "      <th>4</th>\n",
       "      <td>tt0001285</td>\n",
       "      <td>27</td>\n",
       "      <td>6.234483</td>\n",
       "      <td>40.448276</td>\n",
       "    </tr>\n",
       "  </tbody>\n",
       "</table>\n",
       "</div>"
      ],
      "text/plain": [
       "      tconst  crew_titles_asscociated  crew_titles_avgRating  \\\n",
       "0  tt0000574                        1               6.200000   \n",
       "1  tt0000679                       22               5.181818   \n",
       "2  tt0001184                        5               6.080000   \n",
       "3  tt0001258                       18               5.756522   \n",
       "4  tt0001285                       27               6.234483   \n",
       "\n",
       "   crew_titles_avgNumVotes  \n",
       "0                11.000000  \n",
       "1             11092.772727  \n",
       "2                17.000000  \n",
       "3                70.086957  \n",
       "4                40.448276  "
      ]
     },
     "execution_count": 88,
     "metadata": {},
     "output_type": "execute_result"
    }
   ],
   "source": [
    "title_summary.head()"
   ]
  },
  {
   "cell_type": "code",
   "execution_count": 98,
   "metadata": {
    "hidden": true
   },
   "outputs": [
    {
     "data": {
      "text/plain": [
       "(223042, 4)"
      ]
     },
     "execution_count": 98,
     "metadata": {},
     "output_type": "execute_result"
    }
   ],
   "source": [
    "title_summary.shape"
   ]
  },
  {
   "cell_type": "code",
   "execution_count": 90,
   "metadata": {
    "hidden": true
   },
   "outputs": [],
   "source": [
    "df_merged = pd.merge(title_basics_ratings, title_summary, on='tconst', how=\"inner\")"
   ]
  },
  {
   "cell_type": "code",
   "execution_count": 93,
   "metadata": {
    "hidden": true
   },
   "outputs": [
    {
     "data": {
      "text/plain": [
       "tconst                     0\n",
       "primaryTitle               0\n",
       "isAdult                    0\n",
       "runtimeMinutes             0\n",
       "genres                     0\n",
       "averageRating              0\n",
       "numVotes                   0\n",
       "crew_titles_asscociated    0\n",
       "crew_titles_avgRating      0\n",
       "crew_titles_avgNumVotes    0\n",
       "dtype: int64"
      ]
     },
     "execution_count": 93,
     "metadata": {},
     "output_type": "execute_result"
    }
   ],
   "source": [
    "df_merged.isna().sum()"
   ]
  },
  {
   "cell_type": "code",
   "execution_count": 95,
   "metadata": {
    "hidden": true
   },
   "outputs": [
    {
     "data": {
      "text/html": [
       "<div>\n",
       "<style scoped>\n",
       "    .dataframe tbody tr th:only-of-type {\n",
       "        vertical-align: middle;\n",
       "    }\n",
       "\n",
       "    .dataframe tbody tr th {\n",
       "        vertical-align: top;\n",
       "    }\n",
       "\n",
       "    .dataframe thead th {\n",
       "        text-align: right;\n",
       "    }\n",
       "</style>\n",
       "<table border=\"1\" class=\"dataframe\">\n",
       "  <thead>\n",
       "    <tr style=\"text-align: right;\">\n",
       "      <th></th>\n",
       "      <th>tconst</th>\n",
       "      <th>primaryTitle</th>\n",
       "      <th>isAdult</th>\n",
       "      <th>runtimeMinutes</th>\n",
       "      <th>genres</th>\n",
       "      <th>averageRating</th>\n",
       "      <th>numVotes</th>\n",
       "      <th>crew_titles_asscociated</th>\n",
       "      <th>crew_titles_avgRating</th>\n",
       "      <th>crew_titles_avgNumVotes</th>\n",
       "    </tr>\n",
       "  </thead>\n",
       "  <tbody>\n",
       "    <tr>\n",
       "      <th>141505</th>\n",
       "      <td>tt1375666</td>\n",
       "      <td>Inception</td>\n",
       "      <td>0</td>\n",
       "      <td>148</td>\n",
       "      <td>Action,Adventure,Sci-Fi</td>\n",
       "      <td>8.8</td>\n",
       "      <td>2092810.0</td>\n",
       "      <td>221</td>\n",
       "      <td>6.704292</td>\n",
       "      <td>193239.67382</td>\n",
       "    </tr>\n",
       "  </tbody>\n",
       "</table>\n",
       "</div>"
      ],
      "text/plain": [
       "           tconst primaryTitle  isAdult  runtimeMinutes  \\\n",
       "141505  tt1375666    Inception        0             148   \n",
       "\n",
       "                         genres  averageRating   numVotes  \\\n",
       "141505  Action,Adventure,Sci-Fi            8.8  2092810.0   \n",
       "\n",
       "        crew_titles_asscociated  crew_titles_avgRating  \\\n",
       "141505                      221               6.704292   \n",
       "\n",
       "        crew_titles_avgNumVotes  \n",
       "141505             193239.67382  "
      ]
     },
     "execution_count": 95,
     "metadata": {},
     "output_type": "execute_result"
    }
   ],
   "source": [
    "df_merged[df_merged['primaryTitle'] == 'Inception']"
   ]
  },
  {
   "cell_type": "code",
   "execution_count": 102,
   "metadata": {
    "hidden": true
   },
   "outputs": [
    {
     "data": {
      "text/html": [
       "<div>\n",
       "<style scoped>\n",
       "    .dataframe tbody tr th:only-of-type {\n",
       "        vertical-align: middle;\n",
       "    }\n",
       "\n",
       "    .dataframe tbody tr th {\n",
       "        vertical-align: top;\n",
       "    }\n",
       "\n",
       "    .dataframe thead th {\n",
       "        text-align: right;\n",
       "    }\n",
       "</style>\n",
       "<table border=\"1\" class=\"dataframe\">\n",
       "  <thead>\n",
       "    <tr style=\"text-align: right;\">\n",
       "      <th></th>\n",
       "      <th>tconst</th>\n",
       "      <th>primaryTitle</th>\n",
       "      <th>isAdult</th>\n",
       "      <th>runtimeMinutes</th>\n",
       "      <th>genres</th>\n",
       "      <th>averageRating</th>\n",
       "      <th>numVotes</th>\n",
       "      <th>crew_titles_asscociated</th>\n",
       "      <th>crew_titles_avgRating</th>\n",
       "      <th>crew_titles_avgNumVotes</th>\n",
       "    </tr>\n",
       "  </thead>\n",
       "  <tbody>\n",
       "    <tr>\n",
       "      <th>0</th>\n",
       "      <td>tt0000574</td>\n",
       "      <td>The Story of the Kelly Gang</td>\n",
       "      <td>0</td>\n",
       "      <td>70</td>\n",
       "      <td>Action,Adventure,Biography</td>\n",
       "      <td>6.1</td>\n",
       "      <td>625.0</td>\n",
       "      <td>1</td>\n",
       "      <td>6.200000</td>\n",
       "      <td>11.000000</td>\n",
       "    </tr>\n",
       "    <tr>\n",
       "      <th>1</th>\n",
       "      <td>tt0000679</td>\n",
       "      <td>The Fairylogue and Radio-Plays</td>\n",
       "      <td>0</td>\n",
       "      <td>120</td>\n",
       "      <td>Adventure,Fantasy</td>\n",
       "      <td>5.2</td>\n",
       "      <td>35.0</td>\n",
       "      <td>22</td>\n",
       "      <td>5.181818</td>\n",
       "      <td>11092.772727</td>\n",
       "    </tr>\n",
       "    <tr>\n",
       "      <th>2</th>\n",
       "      <td>tt0001184</td>\n",
       "      <td>Don Juan de Serrallonga</td>\n",
       "      <td>0</td>\n",
       "      <td>58</td>\n",
       "      <td>Adventure,Drama</td>\n",
       "      <td>3.4</td>\n",
       "      <td>11.0</td>\n",
       "      <td>5</td>\n",
       "      <td>6.080000</td>\n",
       "      <td>17.000000</td>\n",
       "    </tr>\n",
       "    <tr>\n",
       "      <th>3</th>\n",
       "      <td>tt0001258</td>\n",
       "      <td>The White Slave Trade</td>\n",
       "      <td>0</td>\n",
       "      <td>45</td>\n",
       "      <td>Drama</td>\n",
       "      <td>5.7</td>\n",
       "      <td>101.0</td>\n",
       "      <td>18</td>\n",
       "      <td>5.756522</td>\n",
       "      <td>70.086957</td>\n",
       "    </tr>\n",
       "    <tr>\n",
       "      <th>4</th>\n",
       "      <td>tt0001285</td>\n",
       "      <td>The Life of Moses</td>\n",
       "      <td>0</td>\n",
       "      <td>50</td>\n",
       "      <td>Biography,Drama,Family</td>\n",
       "      <td>5.4</td>\n",
       "      <td>29.0</td>\n",
       "      <td>27</td>\n",
       "      <td>6.234483</td>\n",
       "      <td>40.448276</td>\n",
       "    </tr>\n",
       "  </tbody>\n",
       "</table>\n",
       "</div>"
      ],
      "text/plain": [
       "      tconst                    primaryTitle  isAdult  runtimeMinutes  \\\n",
       "0  tt0000574     The Story of the Kelly Gang        0              70   \n",
       "1  tt0000679  The Fairylogue and Radio-Plays        0             120   \n",
       "2  tt0001184         Don Juan de Serrallonga        0              58   \n",
       "3  tt0001258           The White Slave Trade        0              45   \n",
       "4  tt0001285               The Life of Moses        0              50   \n",
       "\n",
       "                       genres  averageRating  numVotes  \\\n",
       "0  Action,Adventure,Biography            6.1     625.0   \n",
       "1           Adventure,Fantasy            5.2      35.0   \n",
       "2             Adventure,Drama            3.4      11.0   \n",
       "3                       Drama            5.7     101.0   \n",
       "4      Biography,Drama,Family            5.4      29.0   \n",
       "\n",
       "   crew_titles_asscociated  crew_titles_avgRating  crew_titles_avgNumVotes  \n",
       "0                        1               6.200000                11.000000  \n",
       "1                       22               5.181818             11092.772727  \n",
       "2                        5               6.080000                17.000000  \n",
       "3                       18               5.756522                70.086957  \n",
       "4                       27               6.234483                40.448276  "
      ]
     },
     "execution_count": 102,
     "metadata": {},
     "output_type": "execute_result"
    }
   ],
   "source": [
    "df_merged.head()"
   ]
  },
  {
   "cell_type": "code",
   "execution_count": 100,
   "metadata": {
    "hidden": true
   },
   "outputs": [
    {
     "data": {
      "text/html": [
       "<div>\n",
       "<style scoped>\n",
       "    .dataframe tbody tr th:only-of-type {\n",
       "        vertical-align: middle;\n",
       "    }\n",
       "\n",
       "    .dataframe tbody tr th {\n",
       "        vertical-align: top;\n",
       "    }\n",
       "\n",
       "    .dataframe thead th {\n",
       "        text-align: right;\n",
       "    }\n",
       "</style>\n",
       "<table border=\"1\" class=\"dataframe\">\n",
       "  <thead>\n",
       "    <tr style=\"text-align: right;\">\n",
       "      <th></th>\n",
       "      <th>isAdult</th>\n",
       "      <th>runtimeMinutes</th>\n",
       "      <th>averageRating</th>\n",
       "      <th>numVotes</th>\n",
       "      <th>crew_titles_asscociated</th>\n",
       "      <th>crew_titles_avgRating</th>\n",
       "      <th>crew_titles_avgNumVotes</th>\n",
       "    </tr>\n",
       "  </thead>\n",
       "  <tbody>\n",
       "    <tr>\n",
       "      <th>isAdult</th>\n",
       "      <td>1.000000</td>\n",
       "      <td>-0.055916</td>\n",
       "      <td>-0.046331</td>\n",
       "      <td>-0.013980</td>\n",
       "      <td>0.034793</td>\n",
       "      <td>-0.085467</td>\n",
       "      <td>-0.039269</td>\n",
       "    </tr>\n",
       "    <tr>\n",
       "      <th>runtimeMinutes</th>\n",
       "      <td>-0.055916</td>\n",
       "      <td>1.000000</td>\n",
       "      <td>0.037671</td>\n",
       "      <td>0.064221</td>\n",
       "      <td>0.092691</td>\n",
       "      <td>0.030643</td>\n",
       "      <td>0.057457</td>\n",
       "    </tr>\n",
       "    <tr>\n",
       "      <th>averageRating</th>\n",
       "      <td>-0.046331</td>\n",
       "      <td>0.037671</td>\n",
       "      <td>1.000000</td>\n",
       "      <td>0.079949</td>\n",
       "      <td>-0.035502</td>\n",
       "      <td>0.521282</td>\n",
       "      <td>0.036903</td>\n",
       "    </tr>\n",
       "    <tr>\n",
       "      <th>numVotes</th>\n",
       "      <td>-0.013980</td>\n",
       "      <td>0.064221</td>\n",
       "      <td>0.079949</td>\n",
       "      <td>1.000000</td>\n",
       "      <td>0.062789</td>\n",
       "      <td>0.035027</td>\n",
       "      <td>0.497730</td>\n",
       "    </tr>\n",
       "    <tr>\n",
       "      <th>crew_titles_asscociated</th>\n",
       "      <td>0.034793</td>\n",
       "      <td>0.092691</td>\n",
       "      <td>-0.035502</td>\n",
       "      <td>0.062789</td>\n",
       "      <td>1.000000</td>\n",
       "      <td>-0.017774</td>\n",
       "      <td>0.053158</td>\n",
       "    </tr>\n",
       "    <tr>\n",
       "      <th>crew_titles_avgRating</th>\n",
       "      <td>-0.085467</td>\n",
       "      <td>0.030643</td>\n",
       "      <td>0.521282</td>\n",
       "      <td>0.035027</td>\n",
       "      <td>-0.017774</td>\n",
       "      <td>1.000000</td>\n",
       "      <td>0.057403</td>\n",
       "    </tr>\n",
       "    <tr>\n",
       "      <th>crew_titles_avgNumVotes</th>\n",
       "      <td>-0.039269</td>\n",
       "      <td>0.057457</td>\n",
       "      <td>0.036903</td>\n",
       "      <td>0.497730</td>\n",
       "      <td>0.053158</td>\n",
       "      <td>0.057403</td>\n",
       "      <td>1.000000</td>\n",
       "    </tr>\n",
       "  </tbody>\n",
       "</table>\n",
       "</div>"
      ],
      "text/plain": [
       "                          isAdult  runtimeMinutes  averageRating  numVotes  \\\n",
       "isAdult                  1.000000       -0.055916      -0.046331 -0.013980   \n",
       "runtimeMinutes          -0.055916        1.000000       0.037671  0.064221   \n",
       "averageRating           -0.046331        0.037671       1.000000  0.079949   \n",
       "numVotes                -0.013980        0.064221       0.079949  1.000000   \n",
       "crew_titles_asscociated  0.034793        0.092691      -0.035502  0.062789   \n",
       "crew_titles_avgRating   -0.085467        0.030643       0.521282  0.035027   \n",
       "crew_titles_avgNumVotes -0.039269        0.057457       0.036903  0.497730   \n",
       "\n",
       "                         crew_titles_asscociated  crew_titles_avgRating  \\\n",
       "isAdult                                 0.034793              -0.085467   \n",
       "runtimeMinutes                          0.092691               0.030643   \n",
       "averageRating                          -0.035502               0.521282   \n",
       "numVotes                                0.062789               0.035027   \n",
       "crew_titles_asscociated                 1.000000              -0.017774   \n",
       "crew_titles_avgRating                  -0.017774               1.000000   \n",
       "crew_titles_avgNumVotes                 0.053158               0.057403   \n",
       "\n",
       "                         crew_titles_avgNumVotes  \n",
       "isAdult                                -0.039269  \n",
       "runtimeMinutes                          0.057457  \n",
       "averageRating                           0.036903  \n",
       "numVotes                                0.497730  \n",
       "crew_titles_asscociated                 0.053158  \n",
       "crew_titles_avgRating                   0.057403  \n",
       "crew_titles_avgNumVotes                 1.000000  "
      ]
     },
     "execution_count": 100,
     "metadata": {},
     "output_type": "execute_result"
    }
   ],
   "source": [
    "df_merged.corr()"
   ]
  },
  {
   "cell_type": "code",
   "execution_count": 101,
   "metadata": {
    "hidden": true
   },
   "outputs": [],
   "source": [
    "df_merged.to_csv(\"../data/processed/movie_df_final.csv\", index=False)"
   ]
  }
 ],
 "metadata": {
  "kernelspec": {
   "display_name": "Python 3",
   "language": "python",
   "name": "python3"
  },
  "language_info": {
   "codemirror_mode": {
    "name": "ipython",
    "version": 3
   },
   "file_extension": ".py",
   "mimetype": "text/x-python",
   "name": "python",
   "nbconvert_exporter": "python",
   "pygments_lexer": "ipython3",
   "version": "3.7.4"
  }
 },
 "nbformat": 4,
 "nbformat_minor": 2
}
